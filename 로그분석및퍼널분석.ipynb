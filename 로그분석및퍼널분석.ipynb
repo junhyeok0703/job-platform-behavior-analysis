{
 "cells": [
  {
   "cell_type": "code",
   "execution_count": 3,
   "metadata": {},
   "outputs": [],
   "source": [
    "import pandas as pd\n",
    "log_2022 = pd.read_csv('/Users/parkjunhyeok/Desktop/codit/프로젝트/중급프로젝트/전처리data/log_2022_change.csv')"
   ]
  },
  {
   "cell_type": "code",
   "execution_count": 4,
   "metadata": {},
   "outputs": [],
   "source": [
    "log_2022 = log_2022[log_2022['HTTP응답코드']==200]\n",
    "log_2022.drop(['Unnamed: 0'], axis=1, inplace=True)"
   ]
  },
  {
   "cell_type": "code",
   "execution_count": 5,
   "metadata": {},
   "outputs": [
    {
     "data": {
      "text/html": [
       "<div>\n",
       "<style scoped>\n",
       "    .dataframe tbody tr th:only-of-type {\n",
       "        vertical-align: middle;\n",
       "    }\n",
       "\n",
       "    .dataframe tbody tr th {\n",
       "        vertical-align: top;\n",
       "    }\n",
       "\n",
       "    .dataframe thead th {\n",
       "        text-align: right;\n",
       "    }\n",
       "</style>\n",
       "<table border=\"1\" class=\"dataframe\">\n",
       "  <thead>\n",
       "    <tr style=\"text-align: right;\">\n",
       "      <th></th>\n",
       "      <th>유저 ID</th>\n",
       "      <th>이벤트 발생 화면 경로</th>\n",
       "      <th>로그생성시점</th>\n",
       "      <th>로그생성일</th>\n",
       "      <th>HTTP응답코드</th>\n",
       "      <th>HTTP요청메소드</th>\n",
       "    </tr>\n",
       "  </thead>\n",
       "  <tbody>\n",
       "    <tr>\n",
       "      <th>0</th>\n",
       "      <td>8a7e70cd-1630-4a8a-8303-0706af3a7908</td>\n",
       "      <td>api/search/language?name=한국어&amp;_=1655915651225</td>\n",
       "      <td>2022-06-22 16:42:48.247454 UTC</td>\n",
       "      <td>2022-06-23</td>\n",
       "      <td>200</td>\n",
       "      <td>GET</td>\n",
       "    </tr>\n",
       "    <tr>\n",
       "      <th>1</th>\n",
       "      <td>8a7e70cd-1630-4a8a-8303-0706af3a7908</td>\n",
       "      <td>api/signup/form</td>\n",
       "      <td>2022-06-22 16:19:07.770741 UTC</td>\n",
       "      <td>2022-06-23</td>\n",
       "      <td>200</td>\n",
       "      <td>POST</td>\n",
       "    </tr>\n",
       "    <tr>\n",
       "      <th>2</th>\n",
       "      <td>8a7e70cd-1630-4a8a-8303-0706af3a7908</td>\n",
       "      <td>api/users/id/template</td>\n",
       "      <td>2022-06-22 16:41:54.449837 UTC</td>\n",
       "      <td>2022-06-23</td>\n",
       "      <td>200</td>\n",
       "      <td>POST</td>\n",
       "    </tr>\n",
       "    <tr>\n",
       "      <th>3</th>\n",
       "      <td>8a7e70cd-1630-4a8a-8303-0706af3a7908</td>\n",
       "      <td>api/users/id/template</td>\n",
       "      <td>2022-06-23 02:53:47.040932 UTC</td>\n",
       "      <td>2022-06-23</td>\n",
       "      <td>200</td>\n",
       "      <td>POST</td>\n",
       "    </tr>\n",
       "    <tr>\n",
       "      <th>4</th>\n",
       "      <td>8a7e70cd-1630-4a8a-8303-0706af3a7908</td>\n",
       "      <td>api/users/id/phone/verify/template?_=165591488...</td>\n",
       "      <td>2022-06-22 16:21:58.154299 UTC</td>\n",
       "      <td>2022-06-23</td>\n",
       "      <td>200</td>\n",
       "      <td>GET</td>\n",
       "    </tr>\n",
       "    <tr>\n",
       "      <th>...</th>\n",
       "      <td>...</td>\n",
       "      <td>...</td>\n",
       "      <td>...</td>\n",
       "      <td>...</td>\n",
       "      <td>...</td>\n",
       "      <td>...</td>\n",
       "    </tr>\n",
       "    <tr>\n",
       "      <th>10054119</th>\n",
       "      <td>d2b90cda-7e0d-454f-8a64-070048551e14</td>\n",
       "      <td>setting?utm_source=notification&amp;utm_medium=ema...</td>\n",
       "      <td>2022-07-28 00:34:34.781394 UTC</td>\n",
       "      <td>2022-07-28</td>\n",
       "      <td>200</td>\n",
       "      <td>GET</td>\n",
       "    </tr>\n",
       "    <tr>\n",
       "      <th>10054120</th>\n",
       "      <td>5ddc8a26-b006-4f26-b576-08095d22cf8a</td>\n",
       "      <td>jobs/id/id_title</td>\n",
       "      <td>2022-04-06 03:28:19.99548 UTC</td>\n",
       "      <td>2022-04-06</td>\n",
       "      <td>200</td>\n",
       "      <td>GET</td>\n",
       "    </tr>\n",
       "    <tr>\n",
       "      <th>10054121</th>\n",
       "      <td>f9387b22-2d7d-4267-8671-2279e2d784b9</td>\n",
       "      <td>@user_id</td>\n",
       "      <td>2022-11-14 12:11:53.841597 UTC</td>\n",
       "      <td>2022-11-14</td>\n",
       "      <td>200</td>\n",
       "      <td>GET</td>\n",
       "    </tr>\n",
       "    <tr>\n",
       "      <th>10054122</th>\n",
       "      <td>849ff1bb-6280-46f4-baaa-71d1d0796b5b</td>\n",
       "      <td>NaN</td>\n",
       "      <td>2022-02-10 05:58:29.778388 UTC</td>\n",
       "      <td>2022-02-10</td>\n",
       "      <td>200</td>\n",
       "      <td>GET</td>\n",
       "    </tr>\n",
       "    <tr>\n",
       "      <th>10054123</th>\n",
       "      <td>940b883f-a385-416c-94e2-b5604a78506c</td>\n",
       "      <td>api/companies/id/view</td>\n",
       "      <td>2022-02-03 02:54:20.404898 UTC</td>\n",
       "      <td>2022-02-03</td>\n",
       "      <td>200</td>\n",
       "      <td>POST</td>\n",
       "    </tr>\n",
       "  </tbody>\n",
       "</table>\n",
       "<p>9870549 rows × 6 columns</p>\n",
       "</div>"
      ],
      "text/plain": [
       "                                         유저 ID  \\\n",
       "0         8a7e70cd-1630-4a8a-8303-0706af3a7908   \n",
       "1         8a7e70cd-1630-4a8a-8303-0706af3a7908   \n",
       "2         8a7e70cd-1630-4a8a-8303-0706af3a7908   \n",
       "3         8a7e70cd-1630-4a8a-8303-0706af3a7908   \n",
       "4         8a7e70cd-1630-4a8a-8303-0706af3a7908   \n",
       "...                                        ...   \n",
       "10054119  d2b90cda-7e0d-454f-8a64-070048551e14   \n",
       "10054120  5ddc8a26-b006-4f26-b576-08095d22cf8a   \n",
       "10054121  f9387b22-2d7d-4267-8671-2279e2d784b9   \n",
       "10054122  849ff1bb-6280-46f4-baaa-71d1d0796b5b   \n",
       "10054123  940b883f-a385-416c-94e2-b5604a78506c   \n",
       "\n",
       "                                               이벤트 발생 화면 경로  \\\n",
       "0              api/search/language?name=한국어&_=1655915651225   \n",
       "1                                           api/signup/form   \n",
       "2                                     api/users/id/template   \n",
       "3                                     api/users/id/template   \n",
       "4         api/users/id/phone/verify/template?_=165591488...   \n",
       "...                                                     ...   \n",
       "10054119  setting?utm_source=notification&utm_medium=ema...   \n",
       "10054120                                   jobs/id/id_title   \n",
       "10054121                                           @user_id   \n",
       "10054122                                                NaN   \n",
       "10054123                              api/companies/id/view   \n",
       "\n",
       "                                  로그생성시점       로그생성일  HTTP응답코드 HTTP요청메소드  \n",
       "0         2022-06-22 16:42:48.247454 UTC  2022-06-23       200       GET  \n",
       "1         2022-06-22 16:19:07.770741 UTC  2022-06-23       200      POST  \n",
       "2         2022-06-22 16:41:54.449837 UTC  2022-06-23       200      POST  \n",
       "3         2022-06-23 02:53:47.040932 UTC  2022-06-23       200      POST  \n",
       "4         2022-06-22 16:21:58.154299 UTC  2022-06-23       200       GET  \n",
       "...                                  ...         ...       ...       ...  \n",
       "10054119  2022-07-28 00:34:34.781394 UTC  2022-07-28       200       GET  \n",
       "10054120   2022-04-06 03:28:19.99548 UTC  2022-04-06       200       GET  \n",
       "10054121  2022-11-14 12:11:53.841597 UTC  2022-11-14       200       GET  \n",
       "10054122  2022-02-10 05:58:29.778388 UTC  2022-02-10       200       GET  \n",
       "10054123  2022-02-03 02:54:20.404898 UTC  2022-02-03       200      POST  \n",
       "\n",
       "[9870549 rows x 6 columns]"
      ]
     },
     "execution_count": 5,
     "metadata": {},
     "output_type": "execute_result"
    }
   ],
   "source": [
    "log_2022"
   ]
  },
  {
   "cell_type": "code",
   "execution_count": 6,
   "metadata": {},
   "outputs": [
    {
     "name": "stderr",
     "output_type": "stream",
     "text": [
      "<>:1: SyntaxWarning: invalid escape sequence '\\?'\n",
      "<>:1: SyntaxWarning: invalid escape sequence '\\?'\n",
      "/var/folders/j6/q47by8d57xv9mxr1cgqzpp_w0000gn/T/ipykernel_65504/2005896088.py:1: SyntaxWarning: invalid escape sequence '\\?'\n",
      "  jobs2_df = log_2022[log_2022['이벤트 발생 화면 경로'].str.contains('^jobs\\?', case=False, na=False)]\n"
     ]
    }
   ],
   "source": [
    "jobs2_df = log_2022[log_2022['이벤트 발생 화면 경로'].str.contains('^jobs\\?', case=False, na=False)]"
   ]
  },
  {
   "cell_type": "code",
   "execution_count": 7,
   "metadata": {},
   "outputs": [
    {
     "data": {
      "text/html": [
       "<div>\n",
       "<style scoped>\n",
       "    .dataframe tbody tr th:only-of-type {\n",
       "        vertical-align: middle;\n",
       "    }\n",
       "\n",
       "    .dataframe tbody tr th {\n",
       "        vertical-align: top;\n",
       "    }\n",
       "\n",
       "    .dataframe thead th {\n",
       "        text-align: right;\n",
       "    }\n",
       "</style>\n",
       "<table border=\"1\" class=\"dataframe\">\n",
       "  <thead>\n",
       "    <tr style=\"text-align: right;\">\n",
       "      <th></th>\n",
       "      <th>유저 ID</th>\n",
       "      <th>이벤트 발생 화면 경로</th>\n",
       "      <th>로그생성시점</th>\n",
       "      <th>로그생성일</th>\n",
       "      <th>HTTP응답코드</th>\n",
       "      <th>HTTP요청메소드</th>\n",
       "    </tr>\n",
       "  </thead>\n",
       "  <tbody>\n",
       "    <tr>\n",
       "      <th>519</th>\n",
       "      <td>d7c84302-545f-4714-bcd1-0cc4328a0f89</td>\n",
       "      <td>jobs?job=1&amp;page=2&amp;salary=60000000-</td>\n",
       "      <td>2022-08-12 05:17:58.705337 UTC</td>\n",
       "      <td>2022-08-12</td>\n",
       "      <td>200</td>\n",
       "      <td>GET</td>\n",
       "    </tr>\n",
       "    <tr>\n",
       "      <th>695</th>\n",
       "      <td>d7c84302-545f-4714-bcd1-0cc4328a0f89</td>\n",
       "      <td>jobs?job=1&amp;page=3&amp;salary=60000000-</td>\n",
       "      <td>2022-08-12 13:39:08.292318 UTC</td>\n",
       "      <td>2022-08-12</td>\n",
       "      <td>200</td>\n",
       "      <td>GET</td>\n",
       "    </tr>\n",
       "    <tr>\n",
       "      <th>784</th>\n",
       "      <td>d7c84302-545f-4714-bcd1-0cc4328a0f89</td>\n",
       "      <td>jobs?page=&amp;job=1&amp;salary=60000000-&amp;location=서울특...</td>\n",
       "      <td>2022-10-09 05:37:43.929658 UTC</td>\n",
       "      <td>2022-10-09</td>\n",
       "      <td>200</td>\n",
       "      <td>GET</td>\n",
       "    </tr>\n",
       "    <tr>\n",
       "      <th>822</th>\n",
       "      <td>d7c84302-545f-4714-bcd1-0cc4328a0f89</td>\n",
       "      <td>jobs?page=&amp;job=1&amp;salary=60000000-&amp;location=서울특...</td>\n",
       "      <td>2022-11-01 11:46:26.842939 UTC</td>\n",
       "      <td>2022-11-01</td>\n",
       "      <td>200</td>\n",
       "      <td>GET</td>\n",
       "    </tr>\n",
       "    <tr>\n",
       "      <th>920</th>\n",
       "      <td>d7c84302-545f-4714-bcd1-0cc4328a0f89</td>\n",
       "      <td>jobs?job=1&amp;page=3&amp;salary=60000000-</td>\n",
       "      <td>2022-08-12 09:32:59.693227 UTC</td>\n",
       "      <td>2022-08-12</td>\n",
       "      <td>200</td>\n",
       "      <td>GET</td>\n",
       "    </tr>\n",
       "    <tr>\n",
       "      <th>...</th>\n",
       "      <td>...</td>\n",
       "      <td>...</td>\n",
       "      <td>...</td>\n",
       "      <td>...</td>\n",
       "      <td>...</td>\n",
       "      <td>...</td>\n",
       "    </tr>\n",
       "    <tr>\n",
       "      <th>10052884</th>\n",
       "      <td>23f097aa-0d7b-47ff-b265-4b4cb8e5e5a3</td>\n",
       "      <td>jobs?career_type=4</td>\n",
       "      <td>2022-04-18 16:14:39.391292 UTC</td>\n",
       "      <td>2022-04-19</td>\n",
       "      <td>200</td>\n",
       "      <td>GET</td>\n",
       "    </tr>\n",
       "    <tr>\n",
       "      <th>10053048</th>\n",
       "      <td>728378fb-ea3b-4693-8038-81a57476ab4e</td>\n",
       "      <td>jobs?specialty=Rust</td>\n",
       "      <td>2022-05-25 13:23:35.880485 UTC</td>\n",
       "      <td>2022-05-25</td>\n",
       "      <td>200</td>\n",
       "      <td>GET</td>\n",
       "    </tr>\n",
       "    <tr>\n",
       "      <th>10053110</th>\n",
       "      <td>10f1f303-7d82-4599-a5dd-4c3f0755b106</td>\n",
       "      <td>jobs?job=sw-developer</td>\n",
       "      <td>2022-01-12 04:03:02.933947 UTC</td>\n",
       "      <td>2022-01-12</td>\n",
       "      <td>200</td>\n",
       "      <td>GET</td>\n",
       "    </tr>\n",
       "    <tr>\n",
       "      <th>10053773</th>\n",
       "      <td>a441061e-e512-442c-b3ff-2f0d8b1fb914</td>\n",
       "      <td>jobs?keywords=자재&amp;page=2</td>\n",
       "      <td>2022-01-28 05:04:48.555269 UTC</td>\n",
       "      <td>2022-01-28</td>\n",
       "      <td>200</td>\n",
       "      <td>GET</td>\n",
       "    </tr>\n",
       "    <tr>\n",
       "      <th>10054053</th>\n",
       "      <td>81ce4b5a-21e0-4424-9f97-97d62f99e04e</td>\n",
       "      <td>jobs?job=management-support&amp;tag=핀테크&amp;career_typ...</td>\n",
       "      <td>2022-04-01 04:46:02.437015 UTC</td>\n",
       "      <td>2022-04-01</td>\n",
       "      <td>200</td>\n",
       "      <td>GET</td>\n",
       "    </tr>\n",
       "  </tbody>\n",
       "</table>\n",
       "<p>103262 rows × 6 columns</p>\n",
       "</div>"
      ],
      "text/plain": [
       "                                         유저 ID  \\\n",
       "519       d7c84302-545f-4714-bcd1-0cc4328a0f89   \n",
       "695       d7c84302-545f-4714-bcd1-0cc4328a0f89   \n",
       "784       d7c84302-545f-4714-bcd1-0cc4328a0f89   \n",
       "822       d7c84302-545f-4714-bcd1-0cc4328a0f89   \n",
       "920       d7c84302-545f-4714-bcd1-0cc4328a0f89   \n",
       "...                                        ...   \n",
       "10052884  23f097aa-0d7b-47ff-b265-4b4cb8e5e5a3   \n",
       "10053048  728378fb-ea3b-4693-8038-81a57476ab4e   \n",
       "10053110  10f1f303-7d82-4599-a5dd-4c3f0755b106   \n",
       "10053773  a441061e-e512-442c-b3ff-2f0d8b1fb914   \n",
       "10054053  81ce4b5a-21e0-4424-9f97-97d62f99e04e   \n",
       "\n",
       "                                               이벤트 발생 화면 경로  \\\n",
       "519                      jobs?job=1&page=2&salary=60000000-   \n",
       "695                      jobs?job=1&page=3&salary=60000000-   \n",
       "784       jobs?page=&job=1&salary=60000000-&location=서울특...   \n",
       "822       jobs?page=&job=1&salary=60000000-&location=서울특...   \n",
       "920                      jobs?job=1&page=3&salary=60000000-   \n",
       "...                                                     ...   \n",
       "10052884                                 jobs?career_type=4   \n",
       "10053048                                jobs?specialty=Rust   \n",
       "10053110                              jobs?job=sw-developer   \n",
       "10053773                            jobs?keywords=자재&page=2   \n",
       "10054053  jobs?job=management-support&tag=핀테크&career_typ...   \n",
       "\n",
       "                                  로그생성시점       로그생성일  HTTP응답코드 HTTP요청메소드  \n",
       "519       2022-08-12 05:17:58.705337 UTC  2022-08-12       200       GET  \n",
       "695       2022-08-12 13:39:08.292318 UTC  2022-08-12       200       GET  \n",
       "784       2022-10-09 05:37:43.929658 UTC  2022-10-09       200       GET  \n",
       "822       2022-11-01 11:46:26.842939 UTC  2022-11-01       200       GET  \n",
       "920       2022-08-12 09:32:59.693227 UTC  2022-08-12       200       GET  \n",
       "...                                  ...         ...       ...       ...  \n",
       "10052884  2022-04-18 16:14:39.391292 UTC  2022-04-19       200       GET  \n",
       "10053048  2022-05-25 13:23:35.880485 UTC  2022-05-25       200       GET  \n",
       "10053110  2022-01-12 04:03:02.933947 UTC  2022-01-12       200       GET  \n",
       "10053773  2022-01-28 05:04:48.555269 UTC  2022-01-28       200       GET  \n",
       "10054053  2022-04-01 04:46:02.437015 UTC  2022-04-01       200       GET  \n",
       "\n",
       "[103262 rows x 6 columns]"
      ]
     },
     "execution_count": 7,
     "metadata": {},
     "output_type": "execute_result"
    }
   ],
   "source": [
    "jobs2_df"
   ]
  },
  {
   "cell_type": "code",
   "execution_count": 8,
   "metadata": {},
   "outputs": [],
   "source": [
    "# 직무에 대한 지원률\n",
    "# 사용성의 개선을 통한 이탈률을 낮추기"
   ]
  },
  {
   "cell_type": "code",
   "execution_count": 9,
   "metadata": {},
   "outputs": [],
   "source": [
    "jobs1_df = log_2022[log_2022['이벤트 발생 화면 경로']=='jobs']"
   ]
  },
  {
   "cell_type": "code",
   "execution_count": 10,
   "metadata": {},
   "outputs": [
    {
     "data": {
      "text/html": [
       "<div>\n",
       "<style scoped>\n",
       "    .dataframe tbody tr th:only-of-type {\n",
       "        vertical-align: middle;\n",
       "    }\n",
       "\n",
       "    .dataframe tbody tr th {\n",
       "        vertical-align: top;\n",
       "    }\n",
       "\n",
       "    .dataframe thead th {\n",
       "        text-align: right;\n",
       "    }\n",
       "</style>\n",
       "<table border=\"1\" class=\"dataframe\">\n",
       "  <thead>\n",
       "    <tr style=\"text-align: right;\">\n",
       "      <th></th>\n",
       "      <th>유저 ID</th>\n",
       "      <th>이벤트 발생 화면 경로</th>\n",
       "      <th>로그생성시점</th>\n",
       "      <th>로그생성일</th>\n",
       "      <th>HTTP응답코드</th>\n",
       "      <th>HTTP요청메소드</th>\n",
       "    </tr>\n",
       "  </thead>\n",
       "  <tbody>\n",
       "    <tr>\n",
       "      <th>336</th>\n",
       "      <td>207a8876-2a6c-4137-9347-476ce719c541</td>\n",
       "      <td>jobs</td>\n",
       "      <td>2022-06-12 16:57:31.049913 UTC</td>\n",
       "      <td>2022-06-13</td>\n",
       "      <td>200</td>\n",
       "      <td>GET</td>\n",
       "    </tr>\n",
       "    <tr>\n",
       "      <th>354</th>\n",
       "      <td>207a8876-2a6c-4137-9347-476ce719c541</td>\n",
       "      <td>jobs</td>\n",
       "      <td>2022-11-17 20:40:58.460891 UTC</td>\n",
       "      <td>2022-11-18</td>\n",
       "      <td>200</td>\n",
       "      <td>GET</td>\n",
       "    </tr>\n",
       "    <tr>\n",
       "      <th>406</th>\n",
       "      <td>207a8876-2a6c-4137-9347-476ce719c541</td>\n",
       "      <td>jobs</td>\n",
       "      <td>2022-06-12 16:50:02.350561 UTC</td>\n",
       "      <td>2022-06-13</td>\n",
       "      <td>200</td>\n",
       "      <td>GET</td>\n",
       "    </tr>\n",
       "    <tr>\n",
       "      <th>446</th>\n",
       "      <td>207a8876-2a6c-4137-9347-476ce719c541</td>\n",
       "      <td>jobs</td>\n",
       "      <td>2022-08-16 10:52:51.582204 UTC</td>\n",
       "      <td>2022-08-16</td>\n",
       "      <td>200</td>\n",
       "      <td>GET</td>\n",
       "    </tr>\n",
       "    <tr>\n",
       "      <th>668</th>\n",
       "      <td>d7c84302-545f-4714-bcd1-0cc4328a0f89</td>\n",
       "      <td>jobs</td>\n",
       "      <td>2022-05-16 05:41:38.397198 UTC</td>\n",
       "      <td>2022-05-16</td>\n",
       "      <td>200</td>\n",
       "      <td>GET</td>\n",
       "    </tr>\n",
       "    <tr>\n",
       "      <th>...</th>\n",
       "      <td>...</td>\n",
       "      <td>...</td>\n",
       "      <td>...</td>\n",
       "      <td>...</td>\n",
       "      <td>...</td>\n",
       "      <td>...</td>\n",
       "    </tr>\n",
       "    <tr>\n",
       "      <th>10053686</th>\n",
       "      <td>84f6824c-5d61-4354-bcb4-4f12eb50ac77</td>\n",
       "      <td>jobs</td>\n",
       "      <td>2022-02-22 05:16:01.472799 UTC</td>\n",
       "      <td>2022-02-22</td>\n",
       "      <td>200</td>\n",
       "      <td>GET</td>\n",
       "    </tr>\n",
       "    <tr>\n",
       "      <th>10054040</th>\n",
       "      <td>0a5bdbb4-3df0-4052-8e4b-db1eda987734</td>\n",
       "      <td>jobs</td>\n",
       "      <td>2022-09-07 05:13:40.450986 UTC</td>\n",
       "      <td>2022-09-07</td>\n",
       "      <td>200</td>\n",
       "      <td>GET</td>\n",
       "    </tr>\n",
       "    <tr>\n",
       "      <th>10054041</th>\n",
       "      <td>0a5bdbb4-3df0-4052-8e4b-db1eda987734</td>\n",
       "      <td>jobs</td>\n",
       "      <td>2022-09-07 05:13:41.024906 UTC</td>\n",
       "      <td>2022-09-07</td>\n",
       "      <td>200</td>\n",
       "      <td>GET</td>\n",
       "    </tr>\n",
       "    <tr>\n",
       "      <th>10054043</th>\n",
       "      <td>0a5bdbb4-3df0-4052-8e4b-db1eda987734</td>\n",
       "      <td>jobs</td>\n",
       "      <td>2022-09-07 05:13:40.89586 UTC</td>\n",
       "      <td>2022-09-07</td>\n",
       "      <td>200</td>\n",
       "      <td>GET</td>\n",
       "    </tr>\n",
       "    <tr>\n",
       "      <th>10054044</th>\n",
       "      <td>0a5bdbb4-3df0-4052-8e4b-db1eda987734</td>\n",
       "      <td>jobs</td>\n",
       "      <td>2022-09-07 05:12:56.938283 UTC</td>\n",
       "      <td>2022-09-07</td>\n",
       "      <td>200</td>\n",
       "      <td>GET</td>\n",
       "    </tr>\n",
       "  </tbody>\n",
       "</table>\n",
       "<p>155079 rows × 6 columns</p>\n",
       "</div>"
      ],
      "text/plain": [
       "                                         유저 ID 이벤트 발생 화면 경로  \\\n",
       "336       207a8876-2a6c-4137-9347-476ce719c541         jobs   \n",
       "354       207a8876-2a6c-4137-9347-476ce719c541         jobs   \n",
       "406       207a8876-2a6c-4137-9347-476ce719c541         jobs   \n",
       "446       207a8876-2a6c-4137-9347-476ce719c541         jobs   \n",
       "668       d7c84302-545f-4714-bcd1-0cc4328a0f89         jobs   \n",
       "...                                        ...          ...   \n",
       "10053686  84f6824c-5d61-4354-bcb4-4f12eb50ac77         jobs   \n",
       "10054040  0a5bdbb4-3df0-4052-8e4b-db1eda987734         jobs   \n",
       "10054041  0a5bdbb4-3df0-4052-8e4b-db1eda987734         jobs   \n",
       "10054043  0a5bdbb4-3df0-4052-8e4b-db1eda987734         jobs   \n",
       "10054044  0a5bdbb4-3df0-4052-8e4b-db1eda987734         jobs   \n",
       "\n",
       "                                  로그생성시점       로그생성일  HTTP응답코드 HTTP요청메소드  \n",
       "336       2022-06-12 16:57:31.049913 UTC  2022-06-13       200       GET  \n",
       "354       2022-11-17 20:40:58.460891 UTC  2022-11-18       200       GET  \n",
       "406       2022-06-12 16:50:02.350561 UTC  2022-06-13       200       GET  \n",
       "446       2022-08-16 10:52:51.582204 UTC  2022-08-16       200       GET  \n",
       "668       2022-05-16 05:41:38.397198 UTC  2022-05-16       200       GET  \n",
       "...                                  ...         ...       ...       ...  \n",
       "10053686  2022-02-22 05:16:01.472799 UTC  2022-02-22       200       GET  \n",
       "10054040  2022-09-07 05:13:40.450986 UTC  2022-09-07       200       GET  \n",
       "10054041  2022-09-07 05:13:41.024906 UTC  2022-09-07       200       GET  \n",
       "10054043   2022-09-07 05:13:40.89586 UTC  2022-09-07       200       GET  \n",
       "10054044  2022-09-07 05:12:56.938283 UTC  2022-09-07       200       GET  \n",
       "\n",
       "[155079 rows x 6 columns]"
      ]
     },
     "execution_count": 10,
     "metadata": {},
     "output_type": "execute_result"
    }
   ],
   "source": [
    "jobs1_df"
   ]
  },
  {
   "cell_type": "code",
   "execution_count": 11,
   "metadata": {},
   "outputs": [],
   "source": [
    "채용페이지방문 = pd.concat([jobs1_df, jobs2_df], axis=0, ignore_index=True)"
   ]
  },
  {
   "cell_type": "code",
   "execution_count": 12,
   "metadata": {},
   "outputs": [
    {
     "data": {
      "text/html": [
       "<div>\n",
       "<style scoped>\n",
       "    .dataframe tbody tr th:only-of-type {\n",
       "        vertical-align: middle;\n",
       "    }\n",
       "\n",
       "    .dataframe tbody tr th {\n",
       "        vertical-align: top;\n",
       "    }\n",
       "\n",
       "    .dataframe thead th {\n",
       "        text-align: right;\n",
       "    }\n",
       "</style>\n",
       "<table border=\"1\" class=\"dataframe\">\n",
       "  <thead>\n",
       "    <tr style=\"text-align: right;\">\n",
       "      <th></th>\n",
       "      <th>유저 ID</th>\n",
       "      <th>이벤트 발생 화면 경로</th>\n",
       "      <th>로그생성시점</th>\n",
       "      <th>로그생성일</th>\n",
       "      <th>HTTP응답코드</th>\n",
       "      <th>HTTP요청메소드</th>\n",
       "    </tr>\n",
       "  </thead>\n",
       "  <tbody>\n",
       "    <tr>\n",
       "      <th>0</th>\n",
       "      <td>207a8876-2a6c-4137-9347-476ce719c541</td>\n",
       "      <td>jobs</td>\n",
       "      <td>2022-06-12 16:57:31.049913 UTC</td>\n",
       "      <td>2022-06-13</td>\n",
       "      <td>200</td>\n",
       "      <td>GET</td>\n",
       "    </tr>\n",
       "    <tr>\n",
       "      <th>1</th>\n",
       "      <td>207a8876-2a6c-4137-9347-476ce719c541</td>\n",
       "      <td>jobs</td>\n",
       "      <td>2022-11-17 20:40:58.460891 UTC</td>\n",
       "      <td>2022-11-18</td>\n",
       "      <td>200</td>\n",
       "      <td>GET</td>\n",
       "    </tr>\n",
       "    <tr>\n",
       "      <th>2</th>\n",
       "      <td>207a8876-2a6c-4137-9347-476ce719c541</td>\n",
       "      <td>jobs</td>\n",
       "      <td>2022-06-12 16:50:02.350561 UTC</td>\n",
       "      <td>2022-06-13</td>\n",
       "      <td>200</td>\n",
       "      <td>GET</td>\n",
       "    </tr>\n",
       "    <tr>\n",
       "      <th>3</th>\n",
       "      <td>207a8876-2a6c-4137-9347-476ce719c541</td>\n",
       "      <td>jobs</td>\n",
       "      <td>2022-08-16 10:52:51.582204 UTC</td>\n",
       "      <td>2022-08-16</td>\n",
       "      <td>200</td>\n",
       "      <td>GET</td>\n",
       "    </tr>\n",
       "    <tr>\n",
       "      <th>4</th>\n",
       "      <td>d7c84302-545f-4714-bcd1-0cc4328a0f89</td>\n",
       "      <td>jobs</td>\n",
       "      <td>2022-05-16 05:41:38.397198 UTC</td>\n",
       "      <td>2022-05-16</td>\n",
       "      <td>200</td>\n",
       "      <td>GET</td>\n",
       "    </tr>\n",
       "    <tr>\n",
       "      <th>...</th>\n",
       "      <td>...</td>\n",
       "      <td>...</td>\n",
       "      <td>...</td>\n",
       "      <td>...</td>\n",
       "      <td>...</td>\n",
       "      <td>...</td>\n",
       "    </tr>\n",
       "    <tr>\n",
       "      <th>258336</th>\n",
       "      <td>23f097aa-0d7b-47ff-b265-4b4cb8e5e5a3</td>\n",
       "      <td>jobs?career_type=4</td>\n",
       "      <td>2022-04-18 16:14:39.391292 UTC</td>\n",
       "      <td>2022-04-19</td>\n",
       "      <td>200</td>\n",
       "      <td>GET</td>\n",
       "    </tr>\n",
       "    <tr>\n",
       "      <th>258337</th>\n",
       "      <td>728378fb-ea3b-4693-8038-81a57476ab4e</td>\n",
       "      <td>jobs?specialty=Rust</td>\n",
       "      <td>2022-05-25 13:23:35.880485 UTC</td>\n",
       "      <td>2022-05-25</td>\n",
       "      <td>200</td>\n",
       "      <td>GET</td>\n",
       "    </tr>\n",
       "    <tr>\n",
       "      <th>258338</th>\n",
       "      <td>10f1f303-7d82-4599-a5dd-4c3f0755b106</td>\n",
       "      <td>jobs?job=sw-developer</td>\n",
       "      <td>2022-01-12 04:03:02.933947 UTC</td>\n",
       "      <td>2022-01-12</td>\n",
       "      <td>200</td>\n",
       "      <td>GET</td>\n",
       "    </tr>\n",
       "    <tr>\n",
       "      <th>258339</th>\n",
       "      <td>a441061e-e512-442c-b3ff-2f0d8b1fb914</td>\n",
       "      <td>jobs?keywords=자재&amp;page=2</td>\n",
       "      <td>2022-01-28 05:04:48.555269 UTC</td>\n",
       "      <td>2022-01-28</td>\n",
       "      <td>200</td>\n",
       "      <td>GET</td>\n",
       "    </tr>\n",
       "    <tr>\n",
       "      <th>258340</th>\n",
       "      <td>81ce4b5a-21e0-4424-9f97-97d62f99e04e</td>\n",
       "      <td>jobs?job=management-support&amp;tag=핀테크&amp;career_typ...</td>\n",
       "      <td>2022-04-01 04:46:02.437015 UTC</td>\n",
       "      <td>2022-04-01</td>\n",
       "      <td>200</td>\n",
       "      <td>GET</td>\n",
       "    </tr>\n",
       "  </tbody>\n",
       "</table>\n",
       "<p>258341 rows × 6 columns</p>\n",
       "</div>"
      ],
      "text/plain": [
       "                                       유저 ID  \\\n",
       "0       207a8876-2a6c-4137-9347-476ce719c541   \n",
       "1       207a8876-2a6c-4137-9347-476ce719c541   \n",
       "2       207a8876-2a6c-4137-9347-476ce719c541   \n",
       "3       207a8876-2a6c-4137-9347-476ce719c541   \n",
       "4       d7c84302-545f-4714-bcd1-0cc4328a0f89   \n",
       "...                                      ...   \n",
       "258336  23f097aa-0d7b-47ff-b265-4b4cb8e5e5a3   \n",
       "258337  728378fb-ea3b-4693-8038-81a57476ab4e   \n",
       "258338  10f1f303-7d82-4599-a5dd-4c3f0755b106   \n",
       "258339  a441061e-e512-442c-b3ff-2f0d8b1fb914   \n",
       "258340  81ce4b5a-21e0-4424-9f97-97d62f99e04e   \n",
       "\n",
       "                                             이벤트 발생 화면 경로  \\\n",
       "0                                                    jobs   \n",
       "1                                                    jobs   \n",
       "2                                                    jobs   \n",
       "3                                                    jobs   \n",
       "4                                                    jobs   \n",
       "...                                                   ...   \n",
       "258336                                 jobs?career_type=4   \n",
       "258337                                jobs?specialty=Rust   \n",
       "258338                              jobs?job=sw-developer   \n",
       "258339                            jobs?keywords=자재&page=2   \n",
       "258340  jobs?job=management-support&tag=핀테크&career_typ...   \n",
       "\n",
       "                                로그생성시점       로그생성일  HTTP응답코드 HTTP요청메소드  \n",
       "0       2022-06-12 16:57:31.049913 UTC  2022-06-13       200       GET  \n",
       "1       2022-11-17 20:40:58.460891 UTC  2022-11-18       200       GET  \n",
       "2       2022-06-12 16:50:02.350561 UTC  2022-06-13       200       GET  \n",
       "3       2022-08-16 10:52:51.582204 UTC  2022-08-16       200       GET  \n",
       "4       2022-05-16 05:41:38.397198 UTC  2022-05-16       200       GET  \n",
       "...                                ...         ...       ...       ...  \n",
       "258336  2022-04-18 16:14:39.391292 UTC  2022-04-19       200       GET  \n",
       "258337  2022-05-25 13:23:35.880485 UTC  2022-05-25       200       GET  \n",
       "258338  2022-01-12 04:03:02.933947 UTC  2022-01-12       200       GET  \n",
       "258339  2022-01-28 05:04:48.555269 UTC  2022-01-28       200       GET  \n",
       "258340  2022-04-01 04:46:02.437015 UTC  2022-04-01       200       GET  \n",
       "\n",
       "[258341 rows x 6 columns]"
      ]
     },
     "execution_count": 12,
     "metadata": {},
     "output_type": "execute_result"
    }
   ],
   "source": [
    "채용페이지방문"
   ]
  },
  {
   "cell_type": "code",
   "execution_count": 13,
   "metadata": {},
   "outputs": [],
   "source": [
    "채용페이지방문 = 채용페이지방문.drop_duplicates(subset='유저 ID', keep='first')\n"
   ]
  },
  {
   "cell_type": "code",
   "execution_count": 14,
   "metadata": {},
   "outputs": [
    {
     "data": {
      "text/html": [
       "<div>\n",
       "<style scoped>\n",
       "    .dataframe tbody tr th:only-of-type {\n",
       "        vertical-align: middle;\n",
       "    }\n",
       "\n",
       "    .dataframe tbody tr th {\n",
       "        vertical-align: top;\n",
       "    }\n",
       "\n",
       "    .dataframe thead th {\n",
       "        text-align: right;\n",
       "    }\n",
       "</style>\n",
       "<table border=\"1\" class=\"dataframe\">\n",
       "  <thead>\n",
       "    <tr style=\"text-align: right;\">\n",
       "      <th></th>\n",
       "      <th>유저 ID</th>\n",
       "      <th>이벤트 발생 화면 경로</th>\n",
       "      <th>로그생성시점</th>\n",
       "      <th>로그생성일</th>\n",
       "      <th>HTTP응답코드</th>\n",
       "      <th>HTTP요청메소드</th>\n",
       "    </tr>\n",
       "  </thead>\n",
       "  <tbody>\n",
       "    <tr>\n",
       "      <th>0</th>\n",
       "      <td>207a8876-2a6c-4137-9347-476ce719c541</td>\n",
       "      <td>jobs</td>\n",
       "      <td>2022-06-12 16:57:31.049913 UTC</td>\n",
       "      <td>2022-06-13</td>\n",
       "      <td>200</td>\n",
       "      <td>GET</td>\n",
       "    </tr>\n",
       "    <tr>\n",
       "      <th>4</th>\n",
       "      <td>d7c84302-545f-4714-bcd1-0cc4328a0f89</td>\n",
       "      <td>jobs</td>\n",
       "      <td>2022-05-16 05:41:38.397198 UTC</td>\n",
       "      <td>2022-05-16</td>\n",
       "      <td>200</td>\n",
       "      <td>GET</td>\n",
       "    </tr>\n",
       "    <tr>\n",
       "      <th>67</th>\n",
       "      <td>d290be5b-7104-4438-ab81-9b82dcb95d49</td>\n",
       "      <td>jobs</td>\n",
       "      <td>2022-05-04 05:15:57.618234 UTC</td>\n",
       "      <td>2022-05-04</td>\n",
       "      <td>200</td>\n",
       "      <td>GET</td>\n",
       "    </tr>\n",
       "    <tr>\n",
       "      <th>379</th>\n",
       "      <td>c2059172-70aa-47c4-b9f2-0be4ef65f7ba</td>\n",
       "      <td>jobs</td>\n",
       "      <td>2022-06-13 02:00:51.979527 UTC</td>\n",
       "      <td>2022-06-13</td>\n",
       "      <td>200</td>\n",
       "      <td>GET</td>\n",
       "    </tr>\n",
       "    <tr>\n",
       "      <th>381</th>\n",
       "      <td>7e92fb11-d00d-4db4-8574-bbba6355be6c</td>\n",
       "      <td>jobs</td>\n",
       "      <td>2022-10-11 02:47:14.858731 UTC</td>\n",
       "      <td>2022-10-11</td>\n",
       "      <td>200</td>\n",
       "      <td>GET</td>\n",
       "    </tr>\n",
       "    <tr>\n",
       "      <th>...</th>\n",
       "      <td>...</td>\n",
       "      <td>...</td>\n",
       "      <td>...</td>\n",
       "      <td>...</td>\n",
       "      <td>...</td>\n",
       "      <td>...</td>\n",
       "    </tr>\n",
       "    <tr>\n",
       "      <th>258336</th>\n",
       "      <td>23f097aa-0d7b-47ff-b265-4b4cb8e5e5a3</td>\n",
       "      <td>jobs?career_type=4</td>\n",
       "      <td>2022-04-18 16:14:39.391292 UTC</td>\n",
       "      <td>2022-04-19</td>\n",
       "      <td>200</td>\n",
       "      <td>GET</td>\n",
       "    </tr>\n",
       "    <tr>\n",
       "      <th>258337</th>\n",
       "      <td>728378fb-ea3b-4693-8038-81a57476ab4e</td>\n",
       "      <td>jobs?specialty=Rust</td>\n",
       "      <td>2022-05-25 13:23:35.880485 UTC</td>\n",
       "      <td>2022-05-25</td>\n",
       "      <td>200</td>\n",
       "      <td>GET</td>\n",
       "    </tr>\n",
       "    <tr>\n",
       "      <th>258338</th>\n",
       "      <td>10f1f303-7d82-4599-a5dd-4c3f0755b106</td>\n",
       "      <td>jobs?job=sw-developer</td>\n",
       "      <td>2022-01-12 04:03:02.933947 UTC</td>\n",
       "      <td>2022-01-12</td>\n",
       "      <td>200</td>\n",
       "      <td>GET</td>\n",
       "    </tr>\n",
       "    <tr>\n",
       "      <th>258339</th>\n",
       "      <td>a441061e-e512-442c-b3ff-2f0d8b1fb914</td>\n",
       "      <td>jobs?keywords=자재&amp;page=2</td>\n",
       "      <td>2022-01-28 05:04:48.555269 UTC</td>\n",
       "      <td>2022-01-28</td>\n",
       "      <td>200</td>\n",
       "      <td>GET</td>\n",
       "    </tr>\n",
       "    <tr>\n",
       "      <th>258340</th>\n",
       "      <td>81ce4b5a-21e0-4424-9f97-97d62f99e04e</td>\n",
       "      <td>jobs?job=management-support&amp;tag=핀테크&amp;career_typ...</td>\n",
       "      <td>2022-04-01 04:46:02.437015 UTC</td>\n",
       "      <td>2022-04-01</td>\n",
       "      <td>200</td>\n",
       "      <td>GET</td>\n",
       "    </tr>\n",
       "  </tbody>\n",
       "</table>\n",
       "<p>11375 rows × 6 columns</p>\n",
       "</div>"
      ],
      "text/plain": [
       "                                       유저 ID  \\\n",
       "0       207a8876-2a6c-4137-9347-476ce719c541   \n",
       "4       d7c84302-545f-4714-bcd1-0cc4328a0f89   \n",
       "67      d290be5b-7104-4438-ab81-9b82dcb95d49   \n",
       "379     c2059172-70aa-47c4-b9f2-0be4ef65f7ba   \n",
       "381     7e92fb11-d00d-4db4-8574-bbba6355be6c   \n",
       "...                                      ...   \n",
       "258336  23f097aa-0d7b-47ff-b265-4b4cb8e5e5a3   \n",
       "258337  728378fb-ea3b-4693-8038-81a57476ab4e   \n",
       "258338  10f1f303-7d82-4599-a5dd-4c3f0755b106   \n",
       "258339  a441061e-e512-442c-b3ff-2f0d8b1fb914   \n",
       "258340  81ce4b5a-21e0-4424-9f97-97d62f99e04e   \n",
       "\n",
       "                                             이벤트 발생 화면 경로  \\\n",
       "0                                                    jobs   \n",
       "4                                                    jobs   \n",
       "67                                                   jobs   \n",
       "379                                                  jobs   \n",
       "381                                                  jobs   \n",
       "...                                                   ...   \n",
       "258336                                 jobs?career_type=4   \n",
       "258337                                jobs?specialty=Rust   \n",
       "258338                              jobs?job=sw-developer   \n",
       "258339                            jobs?keywords=자재&page=2   \n",
       "258340  jobs?job=management-support&tag=핀테크&career_typ...   \n",
       "\n",
       "                                로그생성시점       로그생성일  HTTP응답코드 HTTP요청메소드  \n",
       "0       2022-06-12 16:57:31.049913 UTC  2022-06-13       200       GET  \n",
       "4       2022-05-16 05:41:38.397198 UTC  2022-05-16       200       GET  \n",
       "67      2022-05-04 05:15:57.618234 UTC  2022-05-04       200       GET  \n",
       "379     2022-06-13 02:00:51.979527 UTC  2022-06-13       200       GET  \n",
       "381     2022-10-11 02:47:14.858731 UTC  2022-10-11       200       GET  \n",
       "...                                ...         ...       ...       ...  \n",
       "258336  2022-04-18 16:14:39.391292 UTC  2022-04-19       200       GET  \n",
       "258337  2022-05-25 13:23:35.880485 UTC  2022-05-25       200       GET  \n",
       "258338  2022-01-12 04:03:02.933947 UTC  2022-01-12       200       GET  \n",
       "258339  2022-01-28 05:04:48.555269 UTC  2022-01-28       200       GET  \n",
       "258340  2022-04-01 04:46:02.437015 UTC  2022-04-01       200       GET  \n",
       "\n",
       "[11375 rows x 6 columns]"
      ]
     },
     "execution_count": 14,
     "metadata": {},
     "output_type": "execute_result"
    }
   ],
   "source": [
    "채용페이지방문"
   ]
  },
  {
   "cell_type": "code",
   "execution_count": 15,
   "metadata": {},
   "outputs": [
    {
     "data": {
      "text/html": [
       "<div>\n",
       "<style scoped>\n",
       "    .dataframe tbody tr th:only-of-type {\n",
       "        vertical-align: middle;\n",
       "    }\n",
       "\n",
       "    .dataframe tbody tr th {\n",
       "        vertical-align: top;\n",
       "    }\n",
       "\n",
       "    .dataframe thead th {\n",
       "        text-align: right;\n",
       "    }\n",
       "</style>\n",
       "<table border=\"1\" class=\"dataframe\">\n",
       "  <thead>\n",
       "    <tr style=\"text-align: right;\">\n",
       "      <th></th>\n",
       "      <th>유저 ID</th>\n",
       "      <th>이벤트 발생 화면 경로</th>\n",
       "      <th>로그생성시점</th>\n",
       "      <th>로그생성일</th>\n",
       "      <th>HTTP응답코드</th>\n",
       "      <th>HTTP요청메소드</th>\n",
       "    </tr>\n",
       "  </thead>\n",
       "  <tbody>\n",
       "  </tbody>\n",
       "</table>\n",
       "</div>"
      ],
      "text/plain": [
       "Empty DataFrame\n",
       "Columns: [유저 ID, 이벤트 발생 화면 경로, 로그생성시점, 로그생성일, HTTP응답코드, HTTP요청메소드]\n",
       "Index: []"
      ]
     },
     "execution_count": 15,
     "metadata": {},
     "output_type": "execute_result"
    }
   ],
   "source": [
    "log_2022[log_2022['이벤트 발생 화면 경로']=='jobs/id']"
   ]
  },
  {
   "cell_type": "code",
   "execution_count": 16,
   "metadata": {},
   "outputs": [
    {
     "data": {
      "text/html": [
       "<div>\n",
       "<style scoped>\n",
       "    .dataframe tbody tr th:only-of-type {\n",
       "        vertical-align: middle;\n",
       "    }\n",
       "\n",
       "    .dataframe tbody tr th {\n",
       "        vertical-align: top;\n",
       "    }\n",
       "\n",
       "    .dataframe thead th {\n",
       "        text-align: right;\n",
       "    }\n",
       "</style>\n",
       "<table border=\"1\" class=\"dataframe\">\n",
       "  <thead>\n",
       "    <tr style=\"text-align: right;\">\n",
       "      <th></th>\n",
       "      <th>유저 ID</th>\n",
       "      <th>이벤트 발생 화면 경로</th>\n",
       "      <th>로그생성시점</th>\n",
       "      <th>로그생성일</th>\n",
       "      <th>HTTP응답코드</th>\n",
       "      <th>HTTP요청메소드</th>\n",
       "    </tr>\n",
       "  </thead>\n",
       "  <tbody>\n",
       "    <tr>\n",
       "      <th>43</th>\n",
       "      <td>8a7e70cd-1630-4a8a-8303-0706af3a7908</td>\n",
       "      <td>jobs/id/apply/step4</td>\n",
       "      <td>2022-06-22 17:00:39.400868 UTC</td>\n",
       "      <td>2022-06-23</td>\n",
       "      <td>200</td>\n",
       "      <td>GET</td>\n",
       "    </tr>\n",
       "    <tr>\n",
       "      <th>50</th>\n",
       "      <td>8a7e70cd-1630-4a8a-8303-0706af3a7908</td>\n",
       "      <td>jobs/id/apply/step1</td>\n",
       "      <td>2022-06-22 16:21:29.687333 UTC</td>\n",
       "      <td>2022-06-23</td>\n",
       "      <td>200</td>\n",
       "      <td>GET</td>\n",
       "    </tr>\n",
       "    <tr>\n",
       "      <th>76</th>\n",
       "      <td>8a7e70cd-1630-4a8a-8303-0706af3a7908</td>\n",
       "      <td>jobs/id/apply/step2</td>\n",
       "      <td>2022-06-22 16:26:30.998051 UTC</td>\n",
       "      <td>2022-06-23</td>\n",
       "      <td>200</td>\n",
       "      <td>GET</td>\n",
       "    </tr>\n",
       "    <tr>\n",
       "      <th>125</th>\n",
       "      <td>8a7e70cd-1630-4a8a-8303-0706af3a7908</td>\n",
       "      <td>jobs/id/apply/step3</td>\n",
       "      <td>2022-06-22 16:46:28.622358 UTC</td>\n",
       "      <td>2022-06-23</td>\n",
       "      <td>200</td>\n",
       "      <td>GET</td>\n",
       "    </tr>\n",
       "    <tr>\n",
       "      <th>168</th>\n",
       "      <td>8a7e70cd-1630-4a8a-8303-0706af3a7908</td>\n",
       "      <td>jobs/id/id_title?utm_campaign=google_jobs_appl...</td>\n",
       "      <td>2022-06-22 16:21:07.392774 UTC</td>\n",
       "      <td>2022-06-23</td>\n",
       "      <td>200</td>\n",
       "      <td>GET</td>\n",
       "    </tr>\n",
       "    <tr>\n",
       "      <th>...</th>\n",
       "      <td>...</td>\n",
       "      <td>...</td>\n",
       "      <td>...</td>\n",
       "      <td>...</td>\n",
       "      <td>...</td>\n",
       "      <td>...</td>\n",
       "    </tr>\n",
       "    <tr>\n",
       "      <th>10054020</th>\n",
       "      <td>82bd0b79-d97c-40ce-9655-d36e192e56f7</td>\n",
       "      <td>jobs/id/id_title</td>\n",
       "      <td>2022-01-18 04:44:15.90748 UTC</td>\n",
       "      <td>2022-01-18</td>\n",
       "      <td>200</td>\n",
       "      <td>GET</td>\n",
       "    </tr>\n",
       "    <tr>\n",
       "      <th>10054079</th>\n",
       "      <td>f34e3ae2-e19c-4ff2-8b55-c6cadba58ef0</td>\n",
       "      <td>jobs/id/id_title</td>\n",
       "      <td>2022-05-03 10:10:04.520614 UTC</td>\n",
       "      <td>2022-05-03</td>\n",
       "      <td>200</td>\n",
       "      <td>GET</td>\n",
       "    </tr>\n",
       "    <tr>\n",
       "      <th>10054097</th>\n",
       "      <td>7c4538e6-eb3d-44d1-9f0e-a107a90f50de</td>\n",
       "      <td>jobs/id/id_title?fbclid=IwAR3gr1RHKKu-ScWF0SRe...</td>\n",
       "      <td>2022-04-04 13:52:15.266697 UTC</td>\n",
       "      <td>2022-04-04</td>\n",
       "      <td>200</td>\n",
       "      <td>GET</td>\n",
       "    </tr>\n",
       "    <tr>\n",
       "      <th>10054113</th>\n",
       "      <td>a4295723-f94c-4f3a-8a48-37c1b8e4850a</td>\n",
       "      <td>jobs/id/id_title?utm_campaign=google_jobs_appl...</td>\n",
       "      <td>2022-02-10 06:55:11.196278 UTC</td>\n",
       "      <td>2022-02-10</td>\n",
       "      <td>200</td>\n",
       "      <td>GET</td>\n",
       "    </tr>\n",
       "    <tr>\n",
       "      <th>10054120</th>\n",
       "      <td>5ddc8a26-b006-4f26-b576-08095d22cf8a</td>\n",
       "      <td>jobs/id/id_title</td>\n",
       "      <td>2022-04-06 03:28:19.99548 UTC</td>\n",
       "      <td>2022-04-06</td>\n",
       "      <td>200</td>\n",
       "      <td>GET</td>\n",
       "    </tr>\n",
       "  </tbody>\n",
       "</table>\n",
       "<p>1033122 rows × 6 columns</p>\n",
       "</div>"
      ],
      "text/plain": [
       "                                         유저 ID  \\\n",
       "43        8a7e70cd-1630-4a8a-8303-0706af3a7908   \n",
       "50        8a7e70cd-1630-4a8a-8303-0706af3a7908   \n",
       "76        8a7e70cd-1630-4a8a-8303-0706af3a7908   \n",
       "125       8a7e70cd-1630-4a8a-8303-0706af3a7908   \n",
       "168       8a7e70cd-1630-4a8a-8303-0706af3a7908   \n",
       "...                                        ...   \n",
       "10054020  82bd0b79-d97c-40ce-9655-d36e192e56f7   \n",
       "10054079  f34e3ae2-e19c-4ff2-8b55-c6cadba58ef0   \n",
       "10054097  7c4538e6-eb3d-44d1-9f0e-a107a90f50de   \n",
       "10054113  a4295723-f94c-4f3a-8a48-37c1b8e4850a   \n",
       "10054120  5ddc8a26-b006-4f26-b576-08095d22cf8a   \n",
       "\n",
       "                                               이벤트 발생 화면 경로  \\\n",
       "43                                      jobs/id/apply/step4   \n",
       "50                                      jobs/id/apply/step1   \n",
       "76                                      jobs/id/apply/step2   \n",
       "125                                     jobs/id/apply/step3   \n",
       "168       jobs/id/id_title?utm_campaign=google_jobs_appl...   \n",
       "...                                                     ...   \n",
       "10054020                                   jobs/id/id_title   \n",
       "10054079                                   jobs/id/id_title   \n",
       "10054097  jobs/id/id_title?fbclid=IwAR3gr1RHKKu-ScWF0SRe...   \n",
       "10054113  jobs/id/id_title?utm_campaign=google_jobs_appl...   \n",
       "10054120                                   jobs/id/id_title   \n",
       "\n",
       "                                  로그생성시점       로그생성일  HTTP응답코드 HTTP요청메소드  \n",
       "43        2022-06-22 17:00:39.400868 UTC  2022-06-23       200       GET  \n",
       "50        2022-06-22 16:21:29.687333 UTC  2022-06-23       200       GET  \n",
       "76        2022-06-22 16:26:30.998051 UTC  2022-06-23       200       GET  \n",
       "125       2022-06-22 16:46:28.622358 UTC  2022-06-23       200       GET  \n",
       "168       2022-06-22 16:21:07.392774 UTC  2022-06-23       200       GET  \n",
       "...                                  ...         ...       ...       ...  \n",
       "10054020   2022-01-18 04:44:15.90748 UTC  2022-01-18       200       GET  \n",
       "10054079  2022-05-03 10:10:04.520614 UTC  2022-05-03       200       GET  \n",
       "10054097  2022-04-04 13:52:15.266697 UTC  2022-04-04       200       GET  \n",
       "10054113  2022-02-10 06:55:11.196278 UTC  2022-02-10       200       GET  \n",
       "10054120   2022-04-06 03:28:19.99548 UTC  2022-04-06       200       GET  \n",
       "\n",
       "[1033122 rows x 6 columns]"
      ]
     },
     "execution_count": 16,
     "metadata": {},
     "output_type": "execute_result"
    }
   ],
   "source": [
    "log_2022[log_2022['이벤트 발생 화면 경로'].str.contains('^jobs/id', case=False, na=False)]"
   ]
  },
  {
   "cell_type": "code",
   "execution_count": 17,
   "metadata": {},
   "outputs": [
    {
     "data": {
      "text/html": [
       "<div>\n",
       "<style scoped>\n",
       "    .dataframe tbody tr th:only-of-type {\n",
       "        vertical-align: middle;\n",
       "    }\n",
       "\n",
       "    .dataframe tbody tr th {\n",
       "        vertical-align: top;\n",
       "    }\n",
       "\n",
       "    .dataframe thead th {\n",
       "        text-align: right;\n",
       "    }\n",
       "</style>\n",
       "<table border=\"1\" class=\"dataframe\">\n",
       "  <thead>\n",
       "    <tr style=\"text-align: right;\">\n",
       "      <th></th>\n",
       "      <th>유저 ID</th>\n",
       "      <th>이벤트 발생 화면 경로</th>\n",
       "      <th>로그생성시점</th>\n",
       "      <th>로그생성일</th>\n",
       "      <th>HTTP응답코드</th>\n",
       "      <th>HTTP요청메소드</th>\n",
       "    </tr>\n",
       "  </thead>\n",
       "  <tbody>\n",
       "    <tr>\n",
       "      <th>168</th>\n",
       "      <td>8a7e70cd-1630-4a8a-8303-0706af3a7908</td>\n",
       "      <td>jobs/id/id_title?utm_campaign=google_jobs_appl...</td>\n",
       "      <td>2022-06-22 16:21:07.392774 UTC</td>\n",
       "      <td>2022-06-23</td>\n",
       "      <td>200</td>\n",
       "      <td>GET</td>\n",
       "    </tr>\n",
       "    <tr>\n",
       "      <th>291</th>\n",
       "      <td>207a8876-2a6c-4137-9347-476ce719c541</td>\n",
       "      <td>jobs/id/id_title</td>\n",
       "      <td>2022-02-07 04:48:34.663331 UTC</td>\n",
       "      <td>2022-02-07</td>\n",
       "      <td>200</td>\n",
       "      <td>GET</td>\n",
       "    </tr>\n",
       "    <tr>\n",
       "      <th>310</th>\n",
       "      <td>207a8876-2a6c-4137-9347-476ce719c541</td>\n",
       "      <td>jobs/id/id_title</td>\n",
       "      <td>2022-04-16 07:40:57.667078 UTC</td>\n",
       "      <td>2022-04-16</td>\n",
       "      <td>200</td>\n",
       "      <td>GET</td>\n",
       "    </tr>\n",
       "    <tr>\n",
       "      <th>346</th>\n",
       "      <td>207a8876-2a6c-4137-9347-476ce719c541</td>\n",
       "      <td>jobs/id/id_title</td>\n",
       "      <td>2022-11-17 20:39:11.372048 UTC</td>\n",
       "      <td>2022-11-18</td>\n",
       "      <td>200</td>\n",
       "      <td>GET</td>\n",
       "    </tr>\n",
       "    <tr>\n",
       "      <th>409</th>\n",
       "      <td>207a8876-2a6c-4137-9347-476ce719c541</td>\n",
       "      <td>jobs/id/id_title</td>\n",
       "      <td>2022-06-12 16:50:35.738693 UTC</td>\n",
       "      <td>2022-06-13</td>\n",
       "      <td>200</td>\n",
       "      <td>GET</td>\n",
       "    </tr>\n",
       "    <tr>\n",
       "      <th>...</th>\n",
       "      <td>...</td>\n",
       "      <td>...</td>\n",
       "      <td>...</td>\n",
       "      <td>...</td>\n",
       "      <td>...</td>\n",
       "      <td>...</td>\n",
       "    </tr>\n",
       "    <tr>\n",
       "      <th>10054020</th>\n",
       "      <td>82bd0b79-d97c-40ce-9655-d36e192e56f7</td>\n",
       "      <td>jobs/id/id_title</td>\n",
       "      <td>2022-01-18 04:44:15.90748 UTC</td>\n",
       "      <td>2022-01-18</td>\n",
       "      <td>200</td>\n",
       "      <td>GET</td>\n",
       "    </tr>\n",
       "    <tr>\n",
       "      <th>10054079</th>\n",
       "      <td>f34e3ae2-e19c-4ff2-8b55-c6cadba58ef0</td>\n",
       "      <td>jobs/id/id_title</td>\n",
       "      <td>2022-05-03 10:10:04.520614 UTC</td>\n",
       "      <td>2022-05-03</td>\n",
       "      <td>200</td>\n",
       "      <td>GET</td>\n",
       "    </tr>\n",
       "    <tr>\n",
       "      <th>10054097</th>\n",
       "      <td>7c4538e6-eb3d-44d1-9f0e-a107a90f50de</td>\n",
       "      <td>jobs/id/id_title?fbclid=IwAR3gr1RHKKu-ScWF0SRe...</td>\n",
       "      <td>2022-04-04 13:52:15.266697 UTC</td>\n",
       "      <td>2022-04-04</td>\n",
       "      <td>200</td>\n",
       "      <td>GET</td>\n",
       "    </tr>\n",
       "    <tr>\n",
       "      <th>10054113</th>\n",
       "      <td>a4295723-f94c-4f3a-8a48-37c1b8e4850a</td>\n",
       "      <td>jobs/id/id_title?utm_campaign=google_jobs_appl...</td>\n",
       "      <td>2022-02-10 06:55:11.196278 UTC</td>\n",
       "      <td>2022-02-10</td>\n",
       "      <td>200</td>\n",
       "      <td>GET</td>\n",
       "    </tr>\n",
       "    <tr>\n",
       "      <th>10054120</th>\n",
       "      <td>5ddc8a26-b006-4f26-b576-08095d22cf8a</td>\n",
       "      <td>jobs/id/id_title</td>\n",
       "      <td>2022-04-06 03:28:19.99548 UTC</td>\n",
       "      <td>2022-04-06</td>\n",
       "      <td>200</td>\n",
       "      <td>GET</td>\n",
       "    </tr>\n",
       "  </tbody>\n",
       "</table>\n",
       "<p>707439 rows × 6 columns</p>\n",
       "</div>"
      ],
      "text/plain": [
       "                                         유저 ID  \\\n",
       "168       8a7e70cd-1630-4a8a-8303-0706af3a7908   \n",
       "291       207a8876-2a6c-4137-9347-476ce719c541   \n",
       "310       207a8876-2a6c-4137-9347-476ce719c541   \n",
       "346       207a8876-2a6c-4137-9347-476ce719c541   \n",
       "409       207a8876-2a6c-4137-9347-476ce719c541   \n",
       "...                                        ...   \n",
       "10054020  82bd0b79-d97c-40ce-9655-d36e192e56f7   \n",
       "10054079  f34e3ae2-e19c-4ff2-8b55-c6cadba58ef0   \n",
       "10054097  7c4538e6-eb3d-44d1-9f0e-a107a90f50de   \n",
       "10054113  a4295723-f94c-4f3a-8a48-37c1b8e4850a   \n",
       "10054120  5ddc8a26-b006-4f26-b576-08095d22cf8a   \n",
       "\n",
       "                                               이벤트 발생 화면 경로  \\\n",
       "168       jobs/id/id_title?utm_campaign=google_jobs_appl...   \n",
       "291                                        jobs/id/id_title   \n",
       "310                                        jobs/id/id_title   \n",
       "346                                        jobs/id/id_title   \n",
       "409                                        jobs/id/id_title   \n",
       "...                                                     ...   \n",
       "10054020                                   jobs/id/id_title   \n",
       "10054079                                   jobs/id/id_title   \n",
       "10054097  jobs/id/id_title?fbclid=IwAR3gr1RHKKu-ScWF0SRe...   \n",
       "10054113  jobs/id/id_title?utm_campaign=google_jobs_appl...   \n",
       "10054120                                   jobs/id/id_title   \n",
       "\n",
       "                                  로그생성시점       로그생성일  HTTP응답코드 HTTP요청메소드  \n",
       "168       2022-06-22 16:21:07.392774 UTC  2022-06-23       200       GET  \n",
       "291       2022-02-07 04:48:34.663331 UTC  2022-02-07       200       GET  \n",
       "310       2022-04-16 07:40:57.667078 UTC  2022-04-16       200       GET  \n",
       "346       2022-11-17 20:39:11.372048 UTC  2022-11-18       200       GET  \n",
       "409       2022-06-12 16:50:35.738693 UTC  2022-06-13       200       GET  \n",
       "...                                  ...         ...       ...       ...  \n",
       "10054020   2022-01-18 04:44:15.90748 UTC  2022-01-18       200       GET  \n",
       "10054079  2022-05-03 10:10:04.520614 UTC  2022-05-03       200       GET  \n",
       "10054097  2022-04-04 13:52:15.266697 UTC  2022-04-04       200       GET  \n",
       "10054113  2022-02-10 06:55:11.196278 UTC  2022-02-10       200       GET  \n",
       "10054120   2022-04-06 03:28:19.99548 UTC  2022-04-06       200       GET  \n",
       "\n",
       "[707439 rows x 6 columns]"
      ]
     },
     "execution_count": 17,
     "metadata": {},
     "output_type": "execute_result"
    }
   ],
   "source": [
    "log_2022[log_2022['이벤트 발생 화면 경로'].str.contains('^jobs/id/id_title', case=False, na=False)]"
   ]
  },
  {
   "cell_type": "code",
   "execution_count": 18,
   "metadata": {},
   "outputs": [],
   "source": [
    "채용공고진입 = log_2022[log_2022['이벤트 발생 화면 경로'].str.contains('^jobs/id/id_title', case=False, na=False)]"
   ]
  },
  {
   "cell_type": "code",
   "execution_count": 19,
   "metadata": {},
   "outputs": [],
   "source": [
    "채용공고진입 = 채용공고진입.drop_duplicates(subset='유저 ID', keep='first')"
   ]
  },
  {
   "cell_type": "code",
   "execution_count": 20,
   "metadata": {},
   "outputs": [
    {
     "data": {
      "text/html": [
       "<div>\n",
       "<style scoped>\n",
       "    .dataframe tbody tr th:only-of-type {\n",
       "        vertical-align: middle;\n",
       "    }\n",
       "\n",
       "    .dataframe tbody tr th {\n",
       "        vertical-align: top;\n",
       "    }\n",
       "\n",
       "    .dataframe thead th {\n",
       "        text-align: right;\n",
       "    }\n",
       "</style>\n",
       "<table border=\"1\" class=\"dataframe\">\n",
       "  <thead>\n",
       "    <tr style=\"text-align: right;\">\n",
       "      <th></th>\n",
       "      <th>유저 ID</th>\n",
       "      <th>이벤트 발생 화면 경로</th>\n",
       "      <th>로그생성시점</th>\n",
       "      <th>로그생성일</th>\n",
       "      <th>HTTP응답코드</th>\n",
       "      <th>HTTP요청메소드</th>\n",
       "    </tr>\n",
       "  </thead>\n",
       "  <tbody>\n",
       "    <tr>\n",
       "      <th>168</th>\n",
       "      <td>8a7e70cd-1630-4a8a-8303-0706af3a7908</td>\n",
       "      <td>jobs/id/id_title?utm_campaign=google_jobs_appl...</td>\n",
       "      <td>2022-06-22 16:21:07.392774 UTC</td>\n",
       "      <td>2022-06-23</td>\n",
       "      <td>200</td>\n",
       "      <td>GET</td>\n",
       "    </tr>\n",
       "    <tr>\n",
       "      <th>291</th>\n",
       "      <td>207a8876-2a6c-4137-9347-476ce719c541</td>\n",
       "      <td>jobs/id/id_title</td>\n",
       "      <td>2022-02-07 04:48:34.663331 UTC</td>\n",
       "      <td>2022-02-07</td>\n",
       "      <td>200</td>\n",
       "      <td>GET</td>\n",
       "    </tr>\n",
       "    <tr>\n",
       "      <th>526</th>\n",
       "      <td>d7c84302-545f-4714-bcd1-0cc4328a0f89</td>\n",
       "      <td>jobs/id/id_title</td>\n",
       "      <td>2022-08-23 00:59:34.406522 UTC</td>\n",
       "      <td>2022-08-23</td>\n",
       "      <td>200</td>\n",
       "      <td>GET</td>\n",
       "    </tr>\n",
       "    <tr>\n",
       "      <th>5274</th>\n",
       "      <td>d290be5b-7104-4438-ab81-9b82dcb95d49</td>\n",
       "      <td>jobs/id/id_title</td>\n",
       "      <td>2022-06-23 11:11:44.667847 UTC</td>\n",
       "      <td>2022-06-23</td>\n",
       "      <td>200</td>\n",
       "      <td>GET</td>\n",
       "    </tr>\n",
       "    <tr>\n",
       "      <th>11655</th>\n",
       "      <td>c2059172-70aa-47c4-b9f2-0be4ef65f7ba</td>\n",
       "      <td>jobs/id/id_title?utm_source=notification&amp;utm_m...</td>\n",
       "      <td>2022-07-20 03:13:39.489869 UTC</td>\n",
       "      <td>2022-07-20</td>\n",
       "      <td>200</td>\n",
       "      <td>GET</td>\n",
       "    </tr>\n",
       "    <tr>\n",
       "      <th>...</th>\n",
       "      <td>...</td>\n",
       "      <td>...</td>\n",
       "      <td>...</td>\n",
       "      <td>...</td>\n",
       "      <td>...</td>\n",
       "      <td>...</td>\n",
       "    </tr>\n",
       "    <tr>\n",
       "      <th>10054020</th>\n",
       "      <td>82bd0b79-d97c-40ce-9655-d36e192e56f7</td>\n",
       "      <td>jobs/id/id_title</td>\n",
       "      <td>2022-01-18 04:44:15.90748 UTC</td>\n",
       "      <td>2022-01-18</td>\n",
       "      <td>200</td>\n",
       "      <td>GET</td>\n",
       "    </tr>\n",
       "    <tr>\n",
       "      <th>10054079</th>\n",
       "      <td>f34e3ae2-e19c-4ff2-8b55-c6cadba58ef0</td>\n",
       "      <td>jobs/id/id_title</td>\n",
       "      <td>2022-05-03 10:10:04.520614 UTC</td>\n",
       "      <td>2022-05-03</td>\n",
       "      <td>200</td>\n",
       "      <td>GET</td>\n",
       "    </tr>\n",
       "    <tr>\n",
       "      <th>10054097</th>\n",
       "      <td>7c4538e6-eb3d-44d1-9f0e-a107a90f50de</td>\n",
       "      <td>jobs/id/id_title?fbclid=IwAR3gr1RHKKu-ScWF0SRe...</td>\n",
       "      <td>2022-04-04 13:52:15.266697 UTC</td>\n",
       "      <td>2022-04-04</td>\n",
       "      <td>200</td>\n",
       "      <td>GET</td>\n",
       "    </tr>\n",
       "    <tr>\n",
       "      <th>10054113</th>\n",
       "      <td>a4295723-f94c-4f3a-8a48-37c1b8e4850a</td>\n",
       "      <td>jobs/id/id_title?utm_campaign=google_jobs_appl...</td>\n",
       "      <td>2022-02-10 06:55:11.196278 UTC</td>\n",
       "      <td>2022-02-10</td>\n",
       "      <td>200</td>\n",
       "      <td>GET</td>\n",
       "    </tr>\n",
       "    <tr>\n",
       "      <th>10054120</th>\n",
       "      <td>5ddc8a26-b006-4f26-b576-08095d22cf8a</td>\n",
       "      <td>jobs/id/id_title</td>\n",
       "      <td>2022-04-06 03:28:19.99548 UTC</td>\n",
       "      <td>2022-04-06</td>\n",
       "      <td>200</td>\n",
       "      <td>GET</td>\n",
       "    </tr>\n",
       "  </tbody>\n",
       "</table>\n",
       "<p>12398 rows × 6 columns</p>\n",
       "</div>"
      ],
      "text/plain": [
       "                                         유저 ID  \\\n",
       "168       8a7e70cd-1630-4a8a-8303-0706af3a7908   \n",
       "291       207a8876-2a6c-4137-9347-476ce719c541   \n",
       "526       d7c84302-545f-4714-bcd1-0cc4328a0f89   \n",
       "5274      d290be5b-7104-4438-ab81-9b82dcb95d49   \n",
       "11655     c2059172-70aa-47c4-b9f2-0be4ef65f7ba   \n",
       "...                                        ...   \n",
       "10054020  82bd0b79-d97c-40ce-9655-d36e192e56f7   \n",
       "10054079  f34e3ae2-e19c-4ff2-8b55-c6cadba58ef0   \n",
       "10054097  7c4538e6-eb3d-44d1-9f0e-a107a90f50de   \n",
       "10054113  a4295723-f94c-4f3a-8a48-37c1b8e4850a   \n",
       "10054120  5ddc8a26-b006-4f26-b576-08095d22cf8a   \n",
       "\n",
       "                                               이벤트 발생 화면 경로  \\\n",
       "168       jobs/id/id_title?utm_campaign=google_jobs_appl...   \n",
       "291                                        jobs/id/id_title   \n",
       "526                                        jobs/id/id_title   \n",
       "5274                                       jobs/id/id_title   \n",
       "11655     jobs/id/id_title?utm_source=notification&utm_m...   \n",
       "...                                                     ...   \n",
       "10054020                                   jobs/id/id_title   \n",
       "10054079                                   jobs/id/id_title   \n",
       "10054097  jobs/id/id_title?fbclid=IwAR3gr1RHKKu-ScWF0SRe...   \n",
       "10054113  jobs/id/id_title?utm_campaign=google_jobs_appl...   \n",
       "10054120                                   jobs/id/id_title   \n",
       "\n",
       "                                  로그생성시점       로그생성일  HTTP응답코드 HTTP요청메소드  \n",
       "168       2022-06-22 16:21:07.392774 UTC  2022-06-23       200       GET  \n",
       "291       2022-02-07 04:48:34.663331 UTC  2022-02-07       200       GET  \n",
       "526       2022-08-23 00:59:34.406522 UTC  2022-08-23       200       GET  \n",
       "5274      2022-06-23 11:11:44.667847 UTC  2022-06-23       200       GET  \n",
       "11655     2022-07-20 03:13:39.489869 UTC  2022-07-20       200       GET  \n",
       "...                                  ...         ...       ...       ...  \n",
       "10054020   2022-01-18 04:44:15.90748 UTC  2022-01-18       200       GET  \n",
       "10054079  2022-05-03 10:10:04.520614 UTC  2022-05-03       200       GET  \n",
       "10054097  2022-04-04 13:52:15.266697 UTC  2022-04-04       200       GET  \n",
       "10054113  2022-02-10 06:55:11.196278 UTC  2022-02-10       200       GET  \n",
       "10054120   2022-04-06 03:28:19.99548 UTC  2022-04-06       200       GET  \n",
       "\n",
       "[12398 rows x 6 columns]"
      ]
     },
     "execution_count": 20,
     "metadata": {},
     "output_type": "execute_result"
    }
   ],
   "source": [
    "채용공고진입[채용공고진입['이벤트 발생 화면 경로'].str.contains('jobs/id/id_title?', case=False, na=False)]"
   ]
  },
  {
   "cell_type": "code",
   "execution_count": 21,
   "metadata": {},
   "outputs": [],
   "source": [
    "# 채용공고진입[채용공고진입['이벤트 발생 화면 경로'].str.contains('jobs/id/id_title?', case=False, na=False)]['']"
   ]
  },
  {
   "cell_type": "code",
   "execution_count": 22,
   "metadata": {},
   "outputs": [
    {
     "data": {
      "text/plain": [
       "유저 ID                                 이벤트 발생 화면 경로                                                                                                         로그생성시점                          로그생성일       HTTP응답코드  HTTP요청메소드\n",
       "00fe56fe-5648-40ac-8d35-04bc61263c07  jobs/id/id_title?utm_campaign=google_jobs_apply&utm_source=google_jobs_apply&utm_medium=organic                      2022-11-15 09:53:34.359781 UTC  2022-11-15  200       GET          1\n",
       "b0e302cd-6afa-4885-8fe4-11ebb719dde5  jobs/id/id_title?utm_source=notification&utm_medium=email&utm_campaign=application_open&utm_content=view_job_button  2022-09-13 09:04:41.546419 UTC  2022-09-13  200       GET          1\n",
       "aa47be53-ec41-48a6-81a9-09860111e960  jobs/id/id_title?utm_source=notification&utm_medium=email&utm_campaign=&utm_content=view_job                         2022-10-27 09:21:28.857114 UTC  2022-10-27  200       GET          1\n",
       "aa5e6a29-afa8-49cd-9d81-1e47cd0ad86a  jobs/id/id_title?utm_source=notification&utm_medium=email&utm_campaign=&utm_content=view_job                         2022-11-09 00:24:53.76341 UTC   2022-11-09  200       GET          1\n",
       "aaf60dfd-1bc3-497f-880a-3f9a6f1f453f  jobs/id/id_title?utm_campaign=google_jobs_apply&utm_source=google_jobs_apply&utm_medium=organic                      2022-05-20 07:16:01.927484 UTC  2022-05-20  200       GET          1\n",
       "abc96782-ab01-405b-9a6f-a0abba3f8037  jobs/id/id_title?utm_source=notification&utm_medium=email&utm_campaign=&utm_content=view_job                         2022-08-02 07:37:38.613793 UTC  2022-08-02  200       GET          1\n",
       "ac12e8fb-e1a9-49f5-bfaa-6a49edf4eebc  jobs/id/id_title?utm_source=notification&utm_medium=email&utm_campaign=&utm_content=view_job                         2022-01-07 01:33:21.962003 UTC  2022-01-07  200       GET          1\n",
       "ac68dccb-2484-49e3-95b9-b45eb0ab90be  jobs/id/id_title?utm_source=notification&utm_medium=email&utm_campaign=job_matching&utm_content=view_job             2022-12-14 02:00:32.489493 UTC  2022-12-14  200       GET          1\n",
       "ac8d6908-b66a-436c-8e66-9a07b6236978  jobs/id/id_title?utm_source=notification&utm_medium=email&utm_campaign=job_matching&utm_content=view_job             2022-11-23 04:33:53.030474 UTC  2022-11-23  200       GET          1\n",
       "acb8ebbc-054e-459b-8115-20b55a1915b5  jobs/id/id_title?utm_campaign=google_jobs_apply&utm_source=google_jobs_apply&utm_medium=organic                      2022-05-11 08:26:38.447016 UTC  2022-05-11  200       GET          1\n",
       "ad2064be-5751-4132-8ad4-473236abc4a6  jobs/id/id_title?utm_source=notification&utm_medium=email&utm_campaign=application_open&utm_content=view_job_button  2022-07-01 06:32:18.856894 UTC  2022-07-01  200       GET          1\n",
       "ad8ec30c-ce44-466c-8d6a-a326002d8089  jobs/id/id_title?utm_source=notification&utm_medium=email&utm_campaign=&utm_content=view_job                         2022-09-29 03:12:02.354047 UTC  2022-09-29  200       GET          1\n",
       "ad9384bf-c72b-49a7-8295-4ccb9e8f41cb  jobs/id/id_title?utm_source=notification&utm_medium=email&utm_campaign=&utm_content=view_job                         2022-05-16 03:03:16.36027 UTC   2022-05-16  200       GET          1\n",
       "adee6b59-9b43-4871-9aae-df0060b8420f  jobs/id/id_title?utm_source=notification&utm_medium=email&utm_campaign=job_matching&utm_content=view_job             2022-01-19 01:32:55.543087 UTC  2022-01-19  200       GET          1\n",
       "aee6056c-7af6-4cb7-88f1-3f7c44653a00  jobs/id/id_title?utm_campaign=google_jobs_apply&utm_source=google_jobs_apply&utm_medium=organic                      2022-11-11 02:03:53.641632 UTC  2022-11-11  200       GET          1\n",
       "aee84a9f-b354-4d9d-96a7-2719c5395976  jobs/id/id_title?utm_campaign=google_jobs_apply&utm_source=google_jobs_apply&utm_medium=organic                      2022-11-08 02:26:38.920371 UTC  2022-11-08  200       GET          1\n",
       "af6b5504-350a-47eb-b10e-eb5ccabf6677  jobs/id/id_title?utm_source=notification&utm_medium=email&utm_campaign=&utm_content=view_job                         2022-08-11 17:47:24.617599 UTC  2022-08-12  200       GET          1\n",
       "af9dc698-4f6d-47d3-9498-e1a1c31e5831  jobs/id/id_title?utm_campaign=google_jobs_apply&utm_source=google_jobs_apply&utm_medium=organic                      2022-02-10 05:37:07.32118 UTC   2022-02-10  200       GET          1\n",
       "afab2e39-5e62-4af2-9c89-3f062c0dce79  jobs/id/id_title?utm_source=notification&utm_medium=email&utm_campaign=&utm_content=view_job                         2022-05-22 03:15:00.980474 UTC  2022-05-22  200       GET          1\n",
       "afeb60ae-579a-40a8-8833-ef204111fbbb  jobs/id/id_title?utm_source=notification&utm_medium=email&utm_campaign=&utm_content=view_job                         2022-06-12 05:49:25.649355 UTC  2022-06-12  200       GET          1\n",
       "Name: count, dtype: int64"
      ]
     },
     "execution_count": 22,
     "metadata": {},
     "output_type": "execute_result"
    }
   ],
   "source": [
    "채용공고진입[채용공고진입['이벤트 발생 화면 경로'].str.contains(r'utm_source=', case=False, na=False)].value_counts().head(20)\n"
   ]
  },
  {
   "cell_type": "code",
   "execution_count": 23,
   "metadata": {},
   "outputs": [],
   "source": [
    "# - 북마크 여부의 이탈률의 차이가 있는지 확인(북마크가 영향) -> 만약 북마크수가 영향이었다면 북마크수를 높이기 위해서 노력해야한다 등등,,\n",
    "# -> 채용공고중에 북마크가 많은 공고일수록 지원률(step1)이 많을것이다.\n",
    "\n",
    "# - 기업팔로우 여부의 이탈률의 차이가 있는지 확인(기업팔로우가 영향) -> 만약 기업팔로우수가 영향이었다면 기업팔로우수를 높이기 위해서 노력해야한다 등등,,\n",
    "# - 채용공고의 이미지의 여부의 이탈률의 차이가 있는지 확인(이미지가 영향) -> 만약 이미지수가 영향이었다면 이미지수를 높이기 위해서 노력해야한다 등등,,\n",
    "# - 어떤 직무 카테고리가 이탈률이 높은지 확인(직무가 영향) -> 만약 직무가 영향이었다면 00직무를 채용하기 위한 노력해야한다 등등,,\n",
    "# - 검색필터에서 뭘 많이 검색한 유저가 이탈률이 높은지 확인(검색필터가 영향) -> query쪽\n",
    "# - 사용성의 개선을 통한 이탈률을 낮추기 -> uiux쪽\n"
   ]
  },
  {
   "cell_type": "code",
   "execution_count": 24,
   "metadata": {},
   "outputs": [],
   "source": [
    "채용공고방문 = 채용페이지방문[채용페이지방문['유저 ID'].isin(채용공고진입['유저 ID'])]"
   ]
  },
  {
   "cell_type": "code",
   "execution_count": 25,
   "metadata": {},
   "outputs": [
    {
     "data": {
      "text/html": [
       "<div>\n",
       "<style scoped>\n",
       "    .dataframe tbody tr th:only-of-type {\n",
       "        vertical-align: middle;\n",
       "    }\n",
       "\n",
       "    .dataframe tbody tr th {\n",
       "        vertical-align: top;\n",
       "    }\n",
       "\n",
       "    .dataframe thead th {\n",
       "        text-align: right;\n",
       "    }\n",
       "</style>\n",
       "<table border=\"1\" class=\"dataframe\">\n",
       "  <thead>\n",
       "    <tr style=\"text-align: right;\">\n",
       "      <th></th>\n",
       "      <th>유저 ID</th>\n",
       "      <th>이벤트 발생 화면 경로</th>\n",
       "      <th>로그생성시점</th>\n",
       "      <th>로그생성일</th>\n",
       "      <th>HTTP응답코드</th>\n",
       "      <th>HTTP요청메소드</th>\n",
       "    </tr>\n",
       "  </thead>\n",
       "  <tbody>\n",
       "    <tr>\n",
       "      <th>0</th>\n",
       "      <td>207a8876-2a6c-4137-9347-476ce719c541</td>\n",
       "      <td>jobs</td>\n",
       "      <td>2022-06-12 16:57:31.049913 UTC</td>\n",
       "      <td>2022-06-13</td>\n",
       "      <td>200</td>\n",
       "      <td>GET</td>\n",
       "    </tr>\n",
       "    <tr>\n",
       "      <th>4</th>\n",
       "      <td>d7c84302-545f-4714-bcd1-0cc4328a0f89</td>\n",
       "      <td>jobs</td>\n",
       "      <td>2022-05-16 05:41:38.397198 UTC</td>\n",
       "      <td>2022-05-16</td>\n",
       "      <td>200</td>\n",
       "      <td>GET</td>\n",
       "    </tr>\n",
       "    <tr>\n",
       "      <th>67</th>\n",
       "      <td>d290be5b-7104-4438-ab81-9b82dcb95d49</td>\n",
       "      <td>jobs</td>\n",
       "      <td>2022-05-04 05:15:57.618234 UTC</td>\n",
       "      <td>2022-05-04</td>\n",
       "      <td>200</td>\n",
       "      <td>GET</td>\n",
       "    </tr>\n",
       "    <tr>\n",
       "      <th>379</th>\n",
       "      <td>c2059172-70aa-47c4-b9f2-0be4ef65f7ba</td>\n",
       "      <td>jobs</td>\n",
       "      <td>2022-06-13 02:00:51.979527 UTC</td>\n",
       "      <td>2022-06-13</td>\n",
       "      <td>200</td>\n",
       "      <td>GET</td>\n",
       "    </tr>\n",
       "    <tr>\n",
       "      <th>381</th>\n",
       "      <td>7e92fb11-d00d-4db4-8574-bbba6355be6c</td>\n",
       "      <td>jobs</td>\n",
       "      <td>2022-10-11 02:47:14.858731 UTC</td>\n",
       "      <td>2022-10-11</td>\n",
       "      <td>200</td>\n",
       "      <td>GET</td>\n",
       "    </tr>\n",
       "    <tr>\n",
       "      <th>...</th>\n",
       "      <td>...</td>\n",
       "      <td>...</td>\n",
       "      <td>...</td>\n",
       "      <td>...</td>\n",
       "      <td>...</td>\n",
       "      <td>...</td>\n",
       "    </tr>\n",
       "    <tr>\n",
       "      <th>258336</th>\n",
       "      <td>23f097aa-0d7b-47ff-b265-4b4cb8e5e5a3</td>\n",
       "      <td>jobs?career_type=4</td>\n",
       "      <td>2022-04-18 16:14:39.391292 UTC</td>\n",
       "      <td>2022-04-19</td>\n",
       "      <td>200</td>\n",
       "      <td>GET</td>\n",
       "    </tr>\n",
       "    <tr>\n",
       "      <th>258337</th>\n",
       "      <td>728378fb-ea3b-4693-8038-81a57476ab4e</td>\n",
       "      <td>jobs?specialty=Rust</td>\n",
       "      <td>2022-05-25 13:23:35.880485 UTC</td>\n",
       "      <td>2022-05-25</td>\n",
       "      <td>200</td>\n",
       "      <td>GET</td>\n",
       "    </tr>\n",
       "    <tr>\n",
       "      <th>258338</th>\n",
       "      <td>10f1f303-7d82-4599-a5dd-4c3f0755b106</td>\n",
       "      <td>jobs?job=sw-developer</td>\n",
       "      <td>2022-01-12 04:03:02.933947 UTC</td>\n",
       "      <td>2022-01-12</td>\n",
       "      <td>200</td>\n",
       "      <td>GET</td>\n",
       "    </tr>\n",
       "    <tr>\n",
       "      <th>258339</th>\n",
       "      <td>a441061e-e512-442c-b3ff-2f0d8b1fb914</td>\n",
       "      <td>jobs?keywords=자재&amp;page=2</td>\n",
       "      <td>2022-01-28 05:04:48.555269 UTC</td>\n",
       "      <td>2022-01-28</td>\n",
       "      <td>200</td>\n",
       "      <td>GET</td>\n",
       "    </tr>\n",
       "    <tr>\n",
       "      <th>258340</th>\n",
       "      <td>81ce4b5a-21e0-4424-9f97-97d62f99e04e</td>\n",
       "      <td>jobs?job=management-support&amp;tag=핀테크&amp;career_typ...</td>\n",
       "      <td>2022-04-01 04:46:02.437015 UTC</td>\n",
       "      <td>2022-04-01</td>\n",
       "      <td>200</td>\n",
       "      <td>GET</td>\n",
       "    </tr>\n",
       "  </tbody>\n",
       "</table>\n",
       "<p>11375 rows × 6 columns</p>\n",
       "</div>"
      ],
      "text/plain": [
       "                                       유저 ID  \\\n",
       "0       207a8876-2a6c-4137-9347-476ce719c541   \n",
       "4       d7c84302-545f-4714-bcd1-0cc4328a0f89   \n",
       "67      d290be5b-7104-4438-ab81-9b82dcb95d49   \n",
       "379     c2059172-70aa-47c4-b9f2-0be4ef65f7ba   \n",
       "381     7e92fb11-d00d-4db4-8574-bbba6355be6c   \n",
       "...                                      ...   \n",
       "258336  23f097aa-0d7b-47ff-b265-4b4cb8e5e5a3   \n",
       "258337  728378fb-ea3b-4693-8038-81a57476ab4e   \n",
       "258338  10f1f303-7d82-4599-a5dd-4c3f0755b106   \n",
       "258339  a441061e-e512-442c-b3ff-2f0d8b1fb914   \n",
       "258340  81ce4b5a-21e0-4424-9f97-97d62f99e04e   \n",
       "\n",
       "                                             이벤트 발생 화면 경로  \\\n",
       "0                                                    jobs   \n",
       "4                                                    jobs   \n",
       "67                                                   jobs   \n",
       "379                                                  jobs   \n",
       "381                                                  jobs   \n",
       "...                                                   ...   \n",
       "258336                                 jobs?career_type=4   \n",
       "258337                                jobs?specialty=Rust   \n",
       "258338                              jobs?job=sw-developer   \n",
       "258339                            jobs?keywords=자재&page=2   \n",
       "258340  jobs?job=management-support&tag=핀테크&career_typ...   \n",
       "\n",
       "                                로그생성시점       로그생성일  HTTP응답코드 HTTP요청메소드  \n",
       "0       2022-06-12 16:57:31.049913 UTC  2022-06-13       200       GET  \n",
       "4       2022-05-16 05:41:38.397198 UTC  2022-05-16       200       GET  \n",
       "67      2022-05-04 05:15:57.618234 UTC  2022-05-04       200       GET  \n",
       "379     2022-06-13 02:00:51.979527 UTC  2022-06-13       200       GET  \n",
       "381     2022-10-11 02:47:14.858731 UTC  2022-10-11       200       GET  \n",
       "...                                ...         ...       ...       ...  \n",
       "258336  2022-04-18 16:14:39.391292 UTC  2022-04-19       200       GET  \n",
       "258337  2022-05-25 13:23:35.880485 UTC  2022-05-25       200       GET  \n",
       "258338  2022-01-12 04:03:02.933947 UTC  2022-01-12       200       GET  \n",
       "258339  2022-01-28 05:04:48.555269 UTC  2022-01-28       200       GET  \n",
       "258340  2022-04-01 04:46:02.437015 UTC  2022-04-01       200       GET  \n",
       "\n",
       "[11375 rows x 6 columns]"
      ]
     },
     "execution_count": 25,
     "metadata": {},
     "output_type": "execute_result"
    }
   ],
   "source": [
    "채용페이지방문"
   ]
  },
  {
   "cell_type": "code",
   "execution_count": 26,
   "metadata": {},
   "outputs": [
    {
     "data": {
      "text/html": [
       "<div>\n",
       "<style scoped>\n",
       "    .dataframe tbody tr th:only-of-type {\n",
       "        vertical-align: middle;\n",
       "    }\n",
       "\n",
       "    .dataframe tbody tr th {\n",
       "        vertical-align: top;\n",
       "    }\n",
       "\n",
       "    .dataframe thead th {\n",
       "        text-align: right;\n",
       "    }\n",
       "</style>\n",
       "<table border=\"1\" class=\"dataframe\">\n",
       "  <thead>\n",
       "    <tr style=\"text-align: right;\">\n",
       "      <th></th>\n",
       "      <th>유저 ID</th>\n",
       "      <th>이벤트 발생 화면 경로</th>\n",
       "      <th>로그생성시점</th>\n",
       "      <th>로그생성일</th>\n",
       "      <th>HTTP응답코드</th>\n",
       "      <th>HTTP요청메소드</th>\n",
       "    </tr>\n",
       "  </thead>\n",
       "  <tbody>\n",
       "    <tr>\n",
       "      <th>0</th>\n",
       "      <td>207a8876-2a6c-4137-9347-476ce719c541</td>\n",
       "      <td>jobs</td>\n",
       "      <td>2022-06-12 16:57:31.049913 UTC</td>\n",
       "      <td>2022-06-13</td>\n",
       "      <td>200</td>\n",
       "      <td>GET</td>\n",
       "    </tr>\n",
       "    <tr>\n",
       "      <th>4</th>\n",
       "      <td>d7c84302-545f-4714-bcd1-0cc4328a0f89</td>\n",
       "      <td>jobs</td>\n",
       "      <td>2022-05-16 05:41:38.397198 UTC</td>\n",
       "      <td>2022-05-16</td>\n",
       "      <td>200</td>\n",
       "      <td>GET</td>\n",
       "    </tr>\n",
       "    <tr>\n",
       "      <th>67</th>\n",
       "      <td>d290be5b-7104-4438-ab81-9b82dcb95d49</td>\n",
       "      <td>jobs</td>\n",
       "      <td>2022-05-04 05:15:57.618234 UTC</td>\n",
       "      <td>2022-05-04</td>\n",
       "      <td>200</td>\n",
       "      <td>GET</td>\n",
       "    </tr>\n",
       "    <tr>\n",
       "      <th>379</th>\n",
       "      <td>c2059172-70aa-47c4-b9f2-0be4ef65f7ba</td>\n",
       "      <td>jobs</td>\n",
       "      <td>2022-06-13 02:00:51.979527 UTC</td>\n",
       "      <td>2022-06-13</td>\n",
       "      <td>200</td>\n",
       "      <td>GET</td>\n",
       "    </tr>\n",
       "    <tr>\n",
       "      <th>381</th>\n",
       "      <td>7e92fb11-d00d-4db4-8574-bbba6355be6c</td>\n",
       "      <td>jobs</td>\n",
       "      <td>2022-10-11 02:47:14.858731 UTC</td>\n",
       "      <td>2022-10-11</td>\n",
       "      <td>200</td>\n",
       "      <td>GET</td>\n",
       "    </tr>\n",
       "    <tr>\n",
       "      <th>...</th>\n",
       "      <td>...</td>\n",
       "      <td>...</td>\n",
       "      <td>...</td>\n",
       "      <td>...</td>\n",
       "      <td>...</td>\n",
       "      <td>...</td>\n",
       "    </tr>\n",
       "    <tr>\n",
       "      <th>258317</th>\n",
       "      <td>597a6d7a-a1f7-4420-b06b-eca9f3955b54</td>\n",
       "      <td>jobs?keywords=머신러닝&amp;q=</td>\n",
       "      <td>2022-09-28 06:59:53.562582 UTC</td>\n",
       "      <td>2022-09-28</td>\n",
       "      <td>200</td>\n",
       "      <td>GET</td>\n",
       "    </tr>\n",
       "    <tr>\n",
       "      <th>258319</th>\n",
       "      <td>82a4a351-2c8a-470d-afc8-dbd77125dd3c</td>\n",
       "      <td>jobs?page&amp;career_type=1&amp;q</td>\n",
       "      <td>2022-09-27 00:49:45.488646 UTC</td>\n",
       "      <td>2022-09-27</td>\n",
       "      <td>200</td>\n",
       "      <td>GET</td>\n",
       "    </tr>\n",
       "    <tr>\n",
       "      <th>258322</th>\n",
       "      <td>e4effa78-a364-4ad5-a068-4c626afd9d3d</td>\n",
       "      <td>jobs?page=&amp;job=1&amp;job=10&amp;specialty=C++&amp;career_t...</td>\n",
       "      <td>2022-07-12 10:12:17.80419 UTC</td>\n",
       "      <td>2022-07-12</td>\n",
       "      <td>200</td>\n",
       "      <td>GET</td>\n",
       "    </tr>\n",
       "    <tr>\n",
       "      <th>258333</th>\n",
       "      <td>371eeb72-bd0e-406f-971f-4e2903529282</td>\n",
       "      <td>jobs?page=&amp;job=investor&amp;q=</td>\n",
       "      <td>2022-01-09 16:45:39.455741 UTC</td>\n",
       "      <td>2022-01-10</td>\n",
       "      <td>200</td>\n",
       "      <td>GET</td>\n",
       "    </tr>\n",
       "    <tr>\n",
       "      <th>258336</th>\n",
       "      <td>23f097aa-0d7b-47ff-b265-4b4cb8e5e5a3</td>\n",
       "      <td>jobs?career_type=4</td>\n",
       "      <td>2022-04-18 16:14:39.391292 UTC</td>\n",
       "      <td>2022-04-19</td>\n",
       "      <td>200</td>\n",
       "      <td>GET</td>\n",
       "    </tr>\n",
       "  </tbody>\n",
       "</table>\n",
       "<p>10406 rows × 6 columns</p>\n",
       "</div>"
      ],
      "text/plain": [
       "                                       유저 ID  \\\n",
       "0       207a8876-2a6c-4137-9347-476ce719c541   \n",
       "4       d7c84302-545f-4714-bcd1-0cc4328a0f89   \n",
       "67      d290be5b-7104-4438-ab81-9b82dcb95d49   \n",
       "379     c2059172-70aa-47c4-b9f2-0be4ef65f7ba   \n",
       "381     7e92fb11-d00d-4db4-8574-bbba6355be6c   \n",
       "...                                      ...   \n",
       "258317  597a6d7a-a1f7-4420-b06b-eca9f3955b54   \n",
       "258319  82a4a351-2c8a-470d-afc8-dbd77125dd3c   \n",
       "258322  e4effa78-a364-4ad5-a068-4c626afd9d3d   \n",
       "258333  371eeb72-bd0e-406f-971f-4e2903529282   \n",
       "258336  23f097aa-0d7b-47ff-b265-4b4cb8e5e5a3   \n",
       "\n",
       "                                             이벤트 발생 화면 경로  \\\n",
       "0                                                    jobs   \n",
       "4                                                    jobs   \n",
       "67                                                   jobs   \n",
       "379                                                  jobs   \n",
       "381                                                  jobs   \n",
       "...                                                   ...   \n",
       "258317                              jobs?keywords=머신러닝&q=   \n",
       "258319                          jobs?page&career_type=1&q   \n",
       "258322  jobs?page=&job=1&job=10&specialty=C++&career_t...   \n",
       "258333                         jobs?page=&job=investor&q=   \n",
       "258336                                 jobs?career_type=4   \n",
       "\n",
       "                                로그생성시점       로그생성일  HTTP응답코드 HTTP요청메소드  \n",
       "0       2022-06-12 16:57:31.049913 UTC  2022-06-13       200       GET  \n",
       "4       2022-05-16 05:41:38.397198 UTC  2022-05-16       200       GET  \n",
       "67      2022-05-04 05:15:57.618234 UTC  2022-05-04       200       GET  \n",
       "379     2022-06-13 02:00:51.979527 UTC  2022-06-13       200       GET  \n",
       "381     2022-10-11 02:47:14.858731 UTC  2022-10-11       200       GET  \n",
       "...                                ...         ...       ...       ...  \n",
       "258317  2022-09-28 06:59:53.562582 UTC  2022-09-28       200       GET  \n",
       "258319  2022-09-27 00:49:45.488646 UTC  2022-09-27       200       GET  \n",
       "258322   2022-07-12 10:12:17.80419 UTC  2022-07-12       200       GET  \n",
       "258333  2022-01-09 16:45:39.455741 UTC  2022-01-10       200       GET  \n",
       "258336  2022-04-18 16:14:39.391292 UTC  2022-04-19       200       GET  \n",
       "\n",
       "[10406 rows x 6 columns]"
      ]
     },
     "execution_count": 26,
     "metadata": {},
     "output_type": "execute_result"
    }
   ],
   "source": [
    "채용공고방문"
   ]
  },
  {
   "cell_type": "code",
   "execution_count": 27,
   "metadata": {},
   "outputs": [
    {
     "data": {
      "text/plain": [
       "102                           api/users/id/request_button\n",
       "136                           api/users/id/request_button\n",
       "662     jobs/id/id_title?utm_source=notification&utm_m...\n",
       "875     jobs/id/id_title?utm_source=notification&utm_m...\n",
       "1023                          api/users/id/request_button\n",
       "Name: 이벤트 발생 화면 경로, dtype: object"
      ]
     },
     "execution_count": 27,
     "metadata": {},
     "output_type": "execute_result"
    }
   ],
   "source": [
    "log_2022[log_2022['이벤트 발생 화면 경로'].str.contains('button', case=False, na=False)]['이벤트 발생 화면 경로'].head()"
   ]
  },
  {
   "cell_type": "code",
   "execution_count": 28,
   "metadata": {},
   "outputs": [],
   "source": [
    "지원시작 = log_2022[log_2022['이벤트 발생 화면 경로'].str.contains('^jobs/id/apply/step1', case=False, na=False)]"
   ]
  },
  {
   "cell_type": "code",
   "execution_count": 29,
   "metadata": {},
   "outputs": [],
   "source": [
    "지원시작 = 지원시작.drop_duplicates(subset='유저 ID', keep='first')"
   ]
  },
  {
   "cell_type": "code",
   "execution_count": 30,
   "metadata": {},
   "outputs": [],
   "source": [
    "지원시작 = 채용공고방문[채용공고방문['유저 ID'].isin(지원시작['유저 ID'])]"
   ]
  },
  {
   "cell_type": "code",
   "execution_count": 31,
   "metadata": {},
   "outputs": [
    {
     "data": {
      "text/html": [
       "<div>\n",
       "<style scoped>\n",
       "    .dataframe tbody tr th:only-of-type {\n",
       "        vertical-align: middle;\n",
       "    }\n",
       "\n",
       "    .dataframe tbody tr th {\n",
       "        vertical-align: top;\n",
       "    }\n",
       "\n",
       "    .dataframe thead th {\n",
       "        text-align: right;\n",
       "    }\n",
       "</style>\n",
       "<table border=\"1\" class=\"dataframe\">\n",
       "  <thead>\n",
       "    <tr style=\"text-align: right;\">\n",
       "      <th></th>\n",
       "      <th>유저 ID</th>\n",
       "      <th>이벤트 발생 화면 경로</th>\n",
       "      <th>로그생성시점</th>\n",
       "      <th>로그생성일</th>\n",
       "      <th>HTTP응답코드</th>\n",
       "      <th>HTTP요청메소드</th>\n",
       "    </tr>\n",
       "  </thead>\n",
       "  <tbody>\n",
       "    <tr>\n",
       "      <th>4</th>\n",
       "      <td>d7c84302-545f-4714-bcd1-0cc4328a0f89</td>\n",
       "      <td>jobs</td>\n",
       "      <td>2022-05-16 05:41:38.397198 UTC</td>\n",
       "      <td>2022-05-16</td>\n",
       "      <td>200</td>\n",
       "      <td>GET</td>\n",
       "    </tr>\n",
       "    <tr>\n",
       "      <th>67</th>\n",
       "      <td>d290be5b-7104-4438-ab81-9b82dcb95d49</td>\n",
       "      <td>jobs</td>\n",
       "      <td>2022-05-04 05:15:57.618234 UTC</td>\n",
       "      <td>2022-05-04</td>\n",
       "      <td>200</td>\n",
       "      <td>GET</td>\n",
       "    </tr>\n",
       "    <tr>\n",
       "      <th>381</th>\n",
       "      <td>7e92fb11-d00d-4db4-8574-bbba6355be6c</td>\n",
       "      <td>jobs</td>\n",
       "      <td>2022-10-11 02:47:14.858731 UTC</td>\n",
       "      <td>2022-10-11</td>\n",
       "      <td>200</td>\n",
       "      <td>GET</td>\n",
       "    </tr>\n",
       "    <tr>\n",
       "      <th>406</th>\n",
       "      <td>e2552991-f775-49d7-9d27-cc234d2629ea</td>\n",
       "      <td>jobs</td>\n",
       "      <td>2022-06-23 13:46:41.658049 UTC</td>\n",
       "      <td>2022-06-23</td>\n",
       "      <td>200</td>\n",
       "      <td>GET</td>\n",
       "    </tr>\n",
       "    <tr>\n",
       "      <th>843</th>\n",
       "      <td>343efc9a-2de4-4dd9-b04c-9eabeb185700</td>\n",
       "      <td>jobs</td>\n",
       "      <td>2022-05-30 13:11:45.18343 UTC</td>\n",
       "      <td>2022-05-30</td>\n",
       "      <td>200</td>\n",
       "      <td>GET</td>\n",
       "    </tr>\n",
       "    <tr>\n",
       "      <th>...</th>\n",
       "      <td>...</td>\n",
       "      <td>...</td>\n",
       "      <td>...</td>\n",
       "      <td>...</td>\n",
       "      <td>...</td>\n",
       "      <td>...</td>\n",
       "    </tr>\n",
       "    <tr>\n",
       "      <th>258197</th>\n",
       "      <td>feeb857e-cb30-43b4-95f2-0808311a9b40</td>\n",
       "      <td>jobs?keywords=UX 인턴&amp;q=</td>\n",
       "      <td>2022-07-07 00:46:40.612441 UTC</td>\n",
       "      <td>2022-07-07</td>\n",
       "      <td>200</td>\n",
       "      <td>GET</td>\n",
       "    </tr>\n",
       "    <tr>\n",
       "      <th>258241</th>\n",
       "      <td>2b5067a5-a47f-4aaa-9d62-1957fd0be2e8</td>\n",
       "      <td>jobs?keywords=컴퓨터 비전&amp;q=</td>\n",
       "      <td>2022-07-18 00:31:16.245992 UTC</td>\n",
       "      <td>2022-07-18</td>\n",
       "      <td>200</td>\n",
       "      <td>GET</td>\n",
       "    </tr>\n",
       "    <tr>\n",
       "      <th>258252</th>\n",
       "      <td>56ffa67b-c6bd-4855-b3ba-920b1789e480</td>\n",
       "      <td>jobs?specialty=B2B영업</td>\n",
       "      <td>2022-03-28 01:57:32.526923 UTC</td>\n",
       "      <td>2022-03-28</td>\n",
       "      <td>200</td>\n",
       "      <td>GET</td>\n",
       "    </tr>\n",
       "    <tr>\n",
       "      <th>258276</th>\n",
       "      <td>9314e939-57e2-4798-a183-12c86dd53a25</td>\n",
       "      <td>jobs?keywords=상품기획&amp;q=</td>\n",
       "      <td>2022-01-18 11:08:15.805466 UTC</td>\n",
       "      <td>2022-01-18</td>\n",
       "      <td>200</td>\n",
       "      <td>GET</td>\n",
       "    </tr>\n",
       "    <tr>\n",
       "      <th>258333</th>\n",
       "      <td>371eeb72-bd0e-406f-971f-4e2903529282</td>\n",
       "      <td>jobs?page=&amp;job=investor&amp;q=</td>\n",
       "      <td>2022-01-09 16:45:39.455741 UTC</td>\n",
       "      <td>2022-01-10</td>\n",
       "      <td>200</td>\n",
       "      <td>GET</td>\n",
       "    </tr>\n",
       "  </tbody>\n",
       "</table>\n",
       "<p>6506 rows × 6 columns</p>\n",
       "</div>"
      ],
      "text/plain": [
       "                                       유저 ID                이벤트 발생 화면 경로  \\\n",
       "4       d7c84302-545f-4714-bcd1-0cc4328a0f89                        jobs   \n",
       "67      d290be5b-7104-4438-ab81-9b82dcb95d49                        jobs   \n",
       "381     7e92fb11-d00d-4db4-8574-bbba6355be6c                        jobs   \n",
       "406     e2552991-f775-49d7-9d27-cc234d2629ea                        jobs   \n",
       "843     343efc9a-2de4-4dd9-b04c-9eabeb185700                        jobs   \n",
       "...                                      ...                         ...   \n",
       "258197  feeb857e-cb30-43b4-95f2-0808311a9b40      jobs?keywords=UX 인턴&q=   \n",
       "258241  2b5067a5-a47f-4aaa-9d62-1957fd0be2e8     jobs?keywords=컴퓨터 비전&q=   \n",
       "258252  56ffa67b-c6bd-4855-b3ba-920b1789e480        jobs?specialty=B2B영업   \n",
       "258276  9314e939-57e2-4798-a183-12c86dd53a25       jobs?keywords=상품기획&q=   \n",
       "258333  371eeb72-bd0e-406f-971f-4e2903529282  jobs?page=&job=investor&q=   \n",
       "\n",
       "                                로그생성시점       로그생성일  HTTP응답코드 HTTP요청메소드  \n",
       "4       2022-05-16 05:41:38.397198 UTC  2022-05-16       200       GET  \n",
       "67      2022-05-04 05:15:57.618234 UTC  2022-05-04       200       GET  \n",
       "381     2022-10-11 02:47:14.858731 UTC  2022-10-11       200       GET  \n",
       "406     2022-06-23 13:46:41.658049 UTC  2022-06-23       200       GET  \n",
       "843      2022-05-30 13:11:45.18343 UTC  2022-05-30       200       GET  \n",
       "...                                ...         ...       ...       ...  \n",
       "258197  2022-07-07 00:46:40.612441 UTC  2022-07-07       200       GET  \n",
       "258241  2022-07-18 00:31:16.245992 UTC  2022-07-18       200       GET  \n",
       "258252  2022-03-28 01:57:32.526923 UTC  2022-03-28       200       GET  \n",
       "258276  2022-01-18 11:08:15.805466 UTC  2022-01-18       200       GET  \n",
       "258333  2022-01-09 16:45:39.455741 UTC  2022-01-10       200       GET  \n",
       "\n",
       "[6506 rows x 6 columns]"
      ]
     },
     "execution_count": 31,
     "metadata": {},
     "output_type": "execute_result"
    }
   ],
   "source": [
    "지원시작"
   ]
  },
  {
   "cell_type": "code",
   "execution_count": 32,
   "metadata": {},
   "outputs": [],
   "source": [
    "지원완료 = log_2022[log_2022['이벤트 발생 화면 경로'].str.contains('^api/jobs/id/apply/step4', case=False, na=False)]"
   ]
  },
  {
   "cell_type": "code",
   "execution_count": 33,
   "metadata": {},
   "outputs": [
    {
     "data": {
      "text/plain": [
       "235         8a7e70cd-1630-4a8a-8303-0706af3a7908\n",
       "599         d7c84302-545f-4714-bcd1-0cc4328a0f89\n",
       "994         d7c84302-545f-4714-bcd1-0cc4328a0f89\n",
       "1032        d7c84302-545f-4714-bcd1-0cc4328a0f89\n",
       "1067        d7c84302-545f-4714-bcd1-0cc4328a0f89\n",
       "                            ...                 \n",
       "10050739    33452c3f-9280-4eb3-905b-d85b75f3cc29\n",
       "10051068    cec231eb-8a0a-4370-a88c-451cac3b5348\n",
       "10051163    cec231eb-8a0a-4370-a88c-451cac3b5348\n",
       "10051549    d0f481ff-6717-487f-b064-b88436bdaa31\n",
       "10051718    eeefffef-2004-4eee-9e4d-70817b5be3c6\n",
       "Name: 유저 ID, Length: 39267, dtype: object"
      ]
     },
     "execution_count": 33,
     "metadata": {},
     "output_type": "execute_result"
    }
   ],
   "source": [
    "지원완료['유저 ID']"
   ]
  },
  {
   "cell_type": "code",
   "execution_count": 34,
   "metadata": {},
   "outputs": [],
   "source": [
    "지원완료 = 지원시작[지원시작['유저 ID'].isin(지원완료['유저 ID'])]"
   ]
  },
  {
   "cell_type": "code",
   "execution_count": 35,
   "metadata": {},
   "outputs": [
    {
     "data": {
      "text/html": [
       "<div>\n",
       "<style scoped>\n",
       "    .dataframe tbody tr th:only-of-type {\n",
       "        vertical-align: middle;\n",
       "    }\n",
       "\n",
       "    .dataframe tbody tr th {\n",
       "        vertical-align: top;\n",
       "    }\n",
       "\n",
       "    .dataframe thead th {\n",
       "        text-align: right;\n",
       "    }\n",
       "</style>\n",
       "<table border=\"1\" class=\"dataframe\">\n",
       "  <thead>\n",
       "    <tr style=\"text-align: right;\">\n",
       "      <th></th>\n",
       "      <th>유저 ID</th>\n",
       "      <th>이벤트 발생 화면 경로</th>\n",
       "      <th>로그생성시점</th>\n",
       "      <th>로그생성일</th>\n",
       "      <th>HTTP응답코드</th>\n",
       "      <th>HTTP요청메소드</th>\n",
       "    </tr>\n",
       "  </thead>\n",
       "  <tbody>\n",
       "    <tr>\n",
       "      <th>4</th>\n",
       "      <td>d7c84302-545f-4714-bcd1-0cc4328a0f89</td>\n",
       "      <td>jobs</td>\n",
       "      <td>2022-05-16 05:41:38.397198 UTC</td>\n",
       "      <td>2022-05-16</td>\n",
       "      <td>200</td>\n",
       "      <td>GET</td>\n",
       "    </tr>\n",
       "    <tr>\n",
       "      <th>381</th>\n",
       "      <td>7e92fb11-d00d-4db4-8574-bbba6355be6c</td>\n",
       "      <td>jobs</td>\n",
       "      <td>2022-10-11 02:47:14.858731 UTC</td>\n",
       "      <td>2022-10-11</td>\n",
       "      <td>200</td>\n",
       "      <td>GET</td>\n",
       "    </tr>\n",
       "    <tr>\n",
       "      <th>406</th>\n",
       "      <td>e2552991-f775-49d7-9d27-cc234d2629ea</td>\n",
       "      <td>jobs</td>\n",
       "      <td>2022-06-23 13:46:41.658049 UTC</td>\n",
       "      <td>2022-06-23</td>\n",
       "      <td>200</td>\n",
       "      <td>GET</td>\n",
       "    </tr>\n",
       "    <tr>\n",
       "      <th>843</th>\n",
       "      <td>343efc9a-2de4-4dd9-b04c-9eabeb185700</td>\n",
       "      <td>jobs</td>\n",
       "      <td>2022-05-30 13:11:45.18343 UTC</td>\n",
       "      <td>2022-05-30</td>\n",
       "      <td>200</td>\n",
       "      <td>GET</td>\n",
       "    </tr>\n",
       "    <tr>\n",
       "      <th>854</th>\n",
       "      <td>3a0c7ea4-2a48-428e-92bd-0b7f9b6dc456</td>\n",
       "      <td>jobs</td>\n",
       "      <td>2022-06-23 04:40:01.277147 UTC</td>\n",
       "      <td>2022-06-23</td>\n",
       "      <td>200</td>\n",
       "      <td>GET</td>\n",
       "    </tr>\n",
       "    <tr>\n",
       "      <th>...</th>\n",
       "      <td>...</td>\n",
       "      <td>...</td>\n",
       "      <td>...</td>\n",
       "      <td>...</td>\n",
       "      <td>...</td>\n",
       "      <td>...</td>\n",
       "    </tr>\n",
       "    <tr>\n",
       "      <th>258186</th>\n",
       "      <td>a46e9aff-1ca2-4795-ae86-4166ec2dec3f</td>\n",
       "      <td>jobs?keywords=유튜브 영상&amp;q=</td>\n",
       "      <td>2022-10-05 07:04:39.570899 UTC</td>\n",
       "      <td>2022-10-05</td>\n",
       "      <td>200</td>\n",
       "      <td>GET</td>\n",
       "    </tr>\n",
       "    <tr>\n",
       "      <th>258197</th>\n",
       "      <td>feeb857e-cb30-43b4-95f2-0808311a9b40</td>\n",
       "      <td>jobs?keywords=UX 인턴&amp;q=</td>\n",
       "      <td>2022-07-07 00:46:40.612441 UTC</td>\n",
       "      <td>2022-07-07</td>\n",
       "      <td>200</td>\n",
       "      <td>GET</td>\n",
       "    </tr>\n",
       "    <tr>\n",
       "      <th>258241</th>\n",
       "      <td>2b5067a5-a47f-4aaa-9d62-1957fd0be2e8</td>\n",
       "      <td>jobs?keywords=컴퓨터 비전&amp;q=</td>\n",
       "      <td>2022-07-18 00:31:16.245992 UTC</td>\n",
       "      <td>2022-07-18</td>\n",
       "      <td>200</td>\n",
       "      <td>GET</td>\n",
       "    </tr>\n",
       "    <tr>\n",
       "      <th>258252</th>\n",
       "      <td>56ffa67b-c6bd-4855-b3ba-920b1789e480</td>\n",
       "      <td>jobs?specialty=B2B영업</td>\n",
       "      <td>2022-03-28 01:57:32.526923 UTC</td>\n",
       "      <td>2022-03-28</td>\n",
       "      <td>200</td>\n",
       "      <td>GET</td>\n",
       "    </tr>\n",
       "    <tr>\n",
       "      <th>258276</th>\n",
       "      <td>9314e939-57e2-4798-a183-12c86dd53a25</td>\n",
       "      <td>jobs?keywords=상품기획&amp;q=</td>\n",
       "      <td>2022-01-18 11:08:15.805466 UTC</td>\n",
       "      <td>2022-01-18</td>\n",
       "      <td>200</td>\n",
       "      <td>GET</td>\n",
       "    </tr>\n",
       "  </tbody>\n",
       "</table>\n",
       "<p>5335 rows × 6 columns</p>\n",
       "</div>"
      ],
      "text/plain": [
       "                                       유저 ID             이벤트 발생 화면 경로  \\\n",
       "4       d7c84302-545f-4714-bcd1-0cc4328a0f89                     jobs   \n",
       "381     7e92fb11-d00d-4db4-8574-bbba6355be6c                     jobs   \n",
       "406     e2552991-f775-49d7-9d27-cc234d2629ea                     jobs   \n",
       "843     343efc9a-2de4-4dd9-b04c-9eabeb185700                     jobs   \n",
       "854     3a0c7ea4-2a48-428e-92bd-0b7f9b6dc456                     jobs   \n",
       "...                                      ...                      ...   \n",
       "258186  a46e9aff-1ca2-4795-ae86-4166ec2dec3f  jobs?keywords=유튜브 영상&q=   \n",
       "258197  feeb857e-cb30-43b4-95f2-0808311a9b40   jobs?keywords=UX 인턴&q=   \n",
       "258241  2b5067a5-a47f-4aaa-9d62-1957fd0be2e8  jobs?keywords=컴퓨터 비전&q=   \n",
       "258252  56ffa67b-c6bd-4855-b3ba-920b1789e480     jobs?specialty=B2B영업   \n",
       "258276  9314e939-57e2-4798-a183-12c86dd53a25    jobs?keywords=상품기획&q=   \n",
       "\n",
       "                                로그생성시점       로그생성일  HTTP응답코드 HTTP요청메소드  \n",
       "4       2022-05-16 05:41:38.397198 UTC  2022-05-16       200       GET  \n",
       "381     2022-10-11 02:47:14.858731 UTC  2022-10-11       200       GET  \n",
       "406     2022-06-23 13:46:41.658049 UTC  2022-06-23       200       GET  \n",
       "843      2022-05-30 13:11:45.18343 UTC  2022-05-30       200       GET  \n",
       "854     2022-06-23 04:40:01.277147 UTC  2022-06-23       200       GET  \n",
       "...                                ...         ...       ...       ...  \n",
       "258186  2022-10-05 07:04:39.570899 UTC  2022-10-05       200       GET  \n",
       "258197  2022-07-07 00:46:40.612441 UTC  2022-07-07       200       GET  \n",
       "258241  2022-07-18 00:31:16.245992 UTC  2022-07-18       200       GET  \n",
       "258252  2022-03-28 01:57:32.526923 UTC  2022-03-28       200       GET  \n",
       "258276  2022-01-18 11:08:15.805466 UTC  2022-01-18       200       GET  \n",
       "\n",
       "[5335 rows x 6 columns]"
      ]
     },
     "execution_count": 35,
     "metadata": {},
     "output_type": "execute_result"
    }
   ],
   "source": [
    "지원완료"
   ]
  },
  {
   "cell_type": "code",
   "execution_count": 36,
   "metadata": {},
   "outputs": [
    {
     "data": {
      "text/plain": [
       "(11375, 10406, 6506, 5335)"
      ]
     },
     "execution_count": 36,
     "metadata": {},
     "output_type": "execute_result"
    }
   ],
   "source": [
    "len(채용페이지방문), len(채용공고방문), len(지원시작), len(지원완료)"
   ]
  },
  {
   "cell_type": "code",
   "execution_count": 37,
   "metadata": {},
   "outputs": [
    {
     "data": {
      "application/vnd.plotly.v1+json": {
       "config": {
        "plotlyServerURL": "https://plotly.com"
       },
       "data": [
        {
         "hovertemplate": "number=%{x}<br>stage=%{y}<extra></extra>",
         "legendgroup": "",
         "marker": {
          "color": "#6BAED6",
          "line": {
           "color": "black",
           "width": 1.5
          }
         },
         "name": "",
         "orientation": "h",
         "showlegend": false,
         "textfont": {
          "size": 14
         },
         "textinfo": "label+percent previous",
         "type": "funnel",
         "x": [
          11375,
          10406,
          6506,
          5335
         ],
         "xaxis": "x",
         "y": [
          "채용페이지방문",
          "채용공고방문",
          "지원시작",
          "지원완료"
         ],
         "yaxis": "y"
        }
       ],
       "layout": {
        "annotations": [
         {
          "align": "center",
          "bgcolor": "rgba(255, 255, 255, 0.8)",
          "bordercolor": "black",
          "borderwidth": 1,
          "font": {
           "color": "black",
           "size": 12
          },
          "showarrow": false,
          "text": "채용페이지방문: 11375명\n이탈률: 0.00%",
          "x": 5687.5,
          "y": 0
         },
         {
          "align": "center",
          "bgcolor": "rgba(255, 255, 255, 0.8)",
          "bordercolor": "black",
          "borderwidth": 1,
          "font": {
           "color": "black",
           "size": 12
          },
          "showarrow": false,
          "text": "채용공고방문: 10406명\n이탈률: 8.52%",
          "x": 5203,
          "y": 1
         },
         {
          "align": "center",
          "bgcolor": "rgba(255, 255, 255, 0.8)",
          "bordercolor": "black",
          "borderwidth": 1,
          "font": {
           "color": "black",
           "size": 12
          },
          "showarrow": false,
          "text": "지원시작: 6506명\n이탈률: 37.48%",
          "x": 3253,
          "y": 2
         },
         {
          "align": "center",
          "bgcolor": "rgba(255, 255, 255, 0.8)",
          "bordercolor": "black",
          "borderwidth": 1,
          "font": {
           "color": "black",
           "size": 12
          },
          "showarrow": false,
          "text": "지원완료: 5335명\n이탈률: 18.00%",
          "x": 2667.5,
          "y": 3
         }
        ],
        "font": {
         "size": 14
        },
        "legend": {
         "tracegroupgap": 0
        },
        "paper_bgcolor": "#FFFFFF",
        "plot_bgcolor": "#F9F9F9",
        "template": {
         "data": {
          "bar": [
           {
            "error_x": {
             "color": "#2a3f5f"
            },
            "error_y": {
             "color": "#2a3f5f"
            },
            "marker": {
             "line": {
              "color": "#E5ECF6",
              "width": 0.5
             },
             "pattern": {
              "fillmode": "overlay",
              "size": 10,
              "solidity": 0.2
             }
            },
            "type": "bar"
           }
          ],
          "barpolar": [
           {
            "marker": {
             "line": {
              "color": "#E5ECF6",
              "width": 0.5
             },
             "pattern": {
              "fillmode": "overlay",
              "size": 10,
              "solidity": 0.2
             }
            },
            "type": "barpolar"
           }
          ],
          "carpet": [
           {
            "aaxis": {
             "endlinecolor": "#2a3f5f",
             "gridcolor": "white",
             "linecolor": "white",
             "minorgridcolor": "white",
             "startlinecolor": "#2a3f5f"
            },
            "baxis": {
             "endlinecolor": "#2a3f5f",
             "gridcolor": "white",
             "linecolor": "white",
             "minorgridcolor": "white",
             "startlinecolor": "#2a3f5f"
            },
            "type": "carpet"
           }
          ],
          "choropleth": [
           {
            "colorbar": {
             "outlinewidth": 0,
             "ticks": ""
            },
            "type": "choropleth"
           }
          ],
          "contour": [
           {
            "colorbar": {
             "outlinewidth": 0,
             "ticks": ""
            },
            "colorscale": [
             [
              0,
              "#0d0887"
             ],
             [
              0.1111111111111111,
              "#46039f"
             ],
             [
              0.2222222222222222,
              "#7201a8"
             ],
             [
              0.3333333333333333,
              "#9c179e"
             ],
             [
              0.4444444444444444,
              "#bd3786"
             ],
             [
              0.5555555555555556,
              "#d8576b"
             ],
             [
              0.6666666666666666,
              "#ed7953"
             ],
             [
              0.7777777777777778,
              "#fb9f3a"
             ],
             [
              0.8888888888888888,
              "#fdca26"
             ],
             [
              1,
              "#f0f921"
             ]
            ],
            "type": "contour"
           }
          ],
          "contourcarpet": [
           {
            "colorbar": {
             "outlinewidth": 0,
             "ticks": ""
            },
            "type": "contourcarpet"
           }
          ],
          "heatmap": [
           {
            "colorbar": {
             "outlinewidth": 0,
             "ticks": ""
            },
            "colorscale": [
             [
              0,
              "#0d0887"
             ],
             [
              0.1111111111111111,
              "#46039f"
             ],
             [
              0.2222222222222222,
              "#7201a8"
             ],
             [
              0.3333333333333333,
              "#9c179e"
             ],
             [
              0.4444444444444444,
              "#bd3786"
             ],
             [
              0.5555555555555556,
              "#d8576b"
             ],
             [
              0.6666666666666666,
              "#ed7953"
             ],
             [
              0.7777777777777778,
              "#fb9f3a"
             ],
             [
              0.8888888888888888,
              "#fdca26"
             ],
             [
              1,
              "#f0f921"
             ]
            ],
            "type": "heatmap"
           }
          ],
          "heatmapgl": [
           {
            "colorbar": {
             "outlinewidth": 0,
             "ticks": ""
            },
            "colorscale": [
             [
              0,
              "#0d0887"
             ],
             [
              0.1111111111111111,
              "#46039f"
             ],
             [
              0.2222222222222222,
              "#7201a8"
             ],
             [
              0.3333333333333333,
              "#9c179e"
             ],
             [
              0.4444444444444444,
              "#bd3786"
             ],
             [
              0.5555555555555556,
              "#d8576b"
             ],
             [
              0.6666666666666666,
              "#ed7953"
             ],
             [
              0.7777777777777778,
              "#fb9f3a"
             ],
             [
              0.8888888888888888,
              "#fdca26"
             ],
             [
              1,
              "#f0f921"
             ]
            ],
            "type": "heatmapgl"
           }
          ],
          "histogram": [
           {
            "marker": {
             "pattern": {
              "fillmode": "overlay",
              "size": 10,
              "solidity": 0.2
             }
            },
            "type": "histogram"
           }
          ],
          "histogram2d": [
           {
            "colorbar": {
             "outlinewidth": 0,
             "ticks": ""
            },
            "colorscale": [
             [
              0,
              "#0d0887"
             ],
             [
              0.1111111111111111,
              "#46039f"
             ],
             [
              0.2222222222222222,
              "#7201a8"
             ],
             [
              0.3333333333333333,
              "#9c179e"
             ],
             [
              0.4444444444444444,
              "#bd3786"
             ],
             [
              0.5555555555555556,
              "#d8576b"
             ],
             [
              0.6666666666666666,
              "#ed7953"
             ],
             [
              0.7777777777777778,
              "#fb9f3a"
             ],
             [
              0.8888888888888888,
              "#fdca26"
             ],
             [
              1,
              "#f0f921"
             ]
            ],
            "type": "histogram2d"
           }
          ],
          "histogram2dcontour": [
           {
            "colorbar": {
             "outlinewidth": 0,
             "ticks": ""
            },
            "colorscale": [
             [
              0,
              "#0d0887"
             ],
             [
              0.1111111111111111,
              "#46039f"
             ],
             [
              0.2222222222222222,
              "#7201a8"
             ],
             [
              0.3333333333333333,
              "#9c179e"
             ],
             [
              0.4444444444444444,
              "#bd3786"
             ],
             [
              0.5555555555555556,
              "#d8576b"
             ],
             [
              0.6666666666666666,
              "#ed7953"
             ],
             [
              0.7777777777777778,
              "#fb9f3a"
             ],
             [
              0.8888888888888888,
              "#fdca26"
             ],
             [
              1,
              "#f0f921"
             ]
            ],
            "type": "histogram2dcontour"
           }
          ],
          "mesh3d": [
           {
            "colorbar": {
             "outlinewidth": 0,
             "ticks": ""
            },
            "type": "mesh3d"
           }
          ],
          "parcoords": [
           {
            "line": {
             "colorbar": {
              "outlinewidth": 0,
              "ticks": ""
             }
            },
            "type": "parcoords"
           }
          ],
          "pie": [
           {
            "automargin": true,
            "type": "pie"
           }
          ],
          "scatter": [
           {
            "fillpattern": {
             "fillmode": "overlay",
             "size": 10,
             "solidity": 0.2
            },
            "type": "scatter"
           }
          ],
          "scatter3d": [
           {
            "line": {
             "colorbar": {
              "outlinewidth": 0,
              "ticks": ""
             }
            },
            "marker": {
             "colorbar": {
              "outlinewidth": 0,
              "ticks": ""
             }
            },
            "type": "scatter3d"
           }
          ],
          "scattercarpet": [
           {
            "marker": {
             "colorbar": {
              "outlinewidth": 0,
              "ticks": ""
             }
            },
            "type": "scattercarpet"
           }
          ],
          "scattergeo": [
           {
            "marker": {
             "colorbar": {
              "outlinewidth": 0,
              "ticks": ""
             }
            },
            "type": "scattergeo"
           }
          ],
          "scattergl": [
           {
            "marker": {
             "colorbar": {
              "outlinewidth": 0,
              "ticks": ""
             }
            },
            "type": "scattergl"
           }
          ],
          "scattermapbox": [
           {
            "marker": {
             "colorbar": {
              "outlinewidth": 0,
              "ticks": ""
             }
            },
            "type": "scattermapbox"
           }
          ],
          "scatterpolar": [
           {
            "marker": {
             "colorbar": {
              "outlinewidth": 0,
              "ticks": ""
             }
            },
            "type": "scatterpolar"
           }
          ],
          "scatterpolargl": [
           {
            "marker": {
             "colorbar": {
              "outlinewidth": 0,
              "ticks": ""
             }
            },
            "type": "scatterpolargl"
           }
          ],
          "scatterternary": [
           {
            "marker": {
             "colorbar": {
              "outlinewidth": 0,
              "ticks": ""
             }
            },
            "type": "scatterternary"
           }
          ],
          "surface": [
           {
            "colorbar": {
             "outlinewidth": 0,
             "ticks": ""
            },
            "colorscale": [
             [
              0,
              "#0d0887"
             ],
             [
              0.1111111111111111,
              "#46039f"
             ],
             [
              0.2222222222222222,
              "#7201a8"
             ],
             [
              0.3333333333333333,
              "#9c179e"
             ],
             [
              0.4444444444444444,
              "#bd3786"
             ],
             [
              0.5555555555555556,
              "#d8576b"
             ],
             [
              0.6666666666666666,
              "#ed7953"
             ],
             [
              0.7777777777777778,
              "#fb9f3a"
             ],
             [
              0.8888888888888888,
              "#fdca26"
             ],
             [
              1,
              "#f0f921"
             ]
            ],
            "type": "surface"
           }
          ],
          "table": [
           {
            "cells": {
             "fill": {
              "color": "#EBF0F8"
             },
             "line": {
              "color": "white"
             }
            },
            "header": {
             "fill": {
              "color": "#C8D4E3"
             },
             "line": {
              "color": "white"
             }
            },
            "type": "table"
           }
          ]
         },
         "layout": {
          "annotationdefaults": {
           "arrowcolor": "#2a3f5f",
           "arrowhead": 0,
           "arrowwidth": 1
          },
          "autotypenumbers": "strict",
          "coloraxis": {
           "colorbar": {
            "outlinewidth": 0,
            "ticks": ""
           }
          },
          "colorscale": {
           "diverging": [
            [
             0,
             "#8e0152"
            ],
            [
             0.1,
             "#c51b7d"
            ],
            [
             0.2,
             "#de77ae"
            ],
            [
             0.3,
             "#f1b6da"
            ],
            [
             0.4,
             "#fde0ef"
            ],
            [
             0.5,
             "#f7f7f7"
            ],
            [
             0.6,
             "#e6f5d0"
            ],
            [
             0.7,
             "#b8e186"
            ],
            [
             0.8,
             "#7fbc41"
            ],
            [
             0.9,
             "#4d9221"
            ],
            [
             1,
             "#276419"
            ]
           ],
           "sequential": [
            [
             0,
             "#0d0887"
            ],
            [
             0.1111111111111111,
             "#46039f"
            ],
            [
             0.2222222222222222,
             "#7201a8"
            ],
            [
             0.3333333333333333,
             "#9c179e"
            ],
            [
             0.4444444444444444,
             "#bd3786"
            ],
            [
             0.5555555555555556,
             "#d8576b"
            ],
            [
             0.6666666666666666,
             "#ed7953"
            ],
            [
             0.7777777777777778,
             "#fb9f3a"
            ],
            [
             0.8888888888888888,
             "#fdca26"
            ],
            [
             1,
             "#f0f921"
            ]
           ],
           "sequentialminus": [
            [
             0,
             "#0d0887"
            ],
            [
             0.1111111111111111,
             "#46039f"
            ],
            [
             0.2222222222222222,
             "#7201a8"
            ],
            [
             0.3333333333333333,
             "#9c179e"
            ],
            [
             0.4444444444444444,
             "#bd3786"
            ],
            [
             0.5555555555555556,
             "#d8576b"
            ],
            [
             0.6666666666666666,
             "#ed7953"
            ],
            [
             0.7777777777777778,
             "#fb9f3a"
            ],
            [
             0.8888888888888888,
             "#fdca26"
            ],
            [
             1,
             "#f0f921"
            ]
           ]
          },
          "colorway": [
           "#636efa",
           "#EF553B",
           "#00cc96",
           "#ab63fa",
           "#FFA15A",
           "#19d3f3",
           "#FF6692",
           "#B6E880",
           "#FF97FF",
           "#FECB52"
          ],
          "font": {
           "color": "#2a3f5f"
          },
          "geo": {
           "bgcolor": "white",
           "lakecolor": "white",
           "landcolor": "#E5ECF6",
           "showlakes": true,
           "showland": true,
           "subunitcolor": "white"
          },
          "hoverlabel": {
           "align": "left"
          },
          "hovermode": "closest",
          "mapbox": {
           "style": "light"
          },
          "paper_bgcolor": "white",
          "plot_bgcolor": "#E5ECF6",
          "polar": {
           "angularaxis": {
            "gridcolor": "white",
            "linecolor": "white",
            "ticks": ""
           },
           "bgcolor": "#E5ECF6",
           "radialaxis": {
            "gridcolor": "white",
            "linecolor": "white",
            "ticks": ""
           }
          },
          "scene": {
           "xaxis": {
            "backgroundcolor": "#E5ECF6",
            "gridcolor": "white",
            "gridwidth": 2,
            "linecolor": "white",
            "showbackground": true,
            "ticks": "",
            "zerolinecolor": "white"
           },
           "yaxis": {
            "backgroundcolor": "#E5ECF6",
            "gridcolor": "white",
            "gridwidth": 2,
            "linecolor": "white",
            "showbackground": true,
            "ticks": "",
            "zerolinecolor": "white"
           },
           "zaxis": {
            "backgroundcolor": "#E5ECF6",
            "gridcolor": "white",
            "gridwidth": 2,
            "linecolor": "white",
            "showbackground": true,
            "ticks": "",
            "zerolinecolor": "white"
           }
          },
          "shapedefaults": {
           "line": {
            "color": "#2a3f5f"
           }
          },
          "ternary": {
           "aaxis": {
            "gridcolor": "white",
            "linecolor": "white",
            "ticks": ""
           },
           "baxis": {
            "gridcolor": "white",
            "linecolor": "white",
            "ticks": ""
           },
           "bgcolor": "#E5ECF6",
           "caxis": {
            "gridcolor": "white",
            "linecolor": "white",
            "ticks": ""
           }
          },
          "title": {
           "x": 0.05
          },
          "xaxis": {
           "automargin": true,
           "gridcolor": "white",
           "linecolor": "white",
           "ticks": "",
           "title": {
            "standoff": 15
           },
           "zerolinecolor": "white",
           "zerolinewidth": 2
          },
          "yaxis": {
           "automargin": true,
           "gridcolor": "white",
           "linecolor": "white",
           "ticks": "",
           "title": {
            "standoff": 15
           },
           "zerolinecolor": "white",
           "zerolinewidth": 2
          }
         }
        },
        "title": {
         "font": {
          "size": 20
         },
         "text": "Funnel Analysis",
         "x": 0.5,
         "y": 0.95
        },
        "xaxis": {
         "anchor": "y",
         "domain": [
          0,
          1
         ],
         "title": {
          "text": "Number of Users"
         }
        },
        "yaxis": {
         "anchor": "x",
         "domain": [
          0,
          1
         ],
         "title": {
          "text": "Stages"
         }
        }
       }
      }
     },
     "metadata": {},
     "output_type": "display_data"
    }
   ],
   "source": [
    "import pandas as pd\n",
    "import plotly.express as px\n",
    "stages = {\n",
    "    '채용페이지방문': len(채용페이지방문),\n",
    "    '채용공고방문': len(채용공고방문),\n",
    "    '지원시작': len(지원시작),\n",
    "    '지원완료': len(지원완료)\n",
    "}\n",
    "\n",
    "\n",
    "stages_df = pd.DataFrame({\n",
    "    'stage': list(stages.keys()),\n",
    "    'number': list(stages.values())\n",
    "})\n",
    "\n",
    "\n",
    "stages_df['drop_off'] = stages_df['number'].shift(1) - stages_df['number'] # 이전 단계 - 현재 단계\n",
    "\n",
    "stages_df['drop_off_rate'] = (stages_df['drop_off'] / stages_df['number'].shift(1) * 100).fillna(0) # (이전 단계 - 현재 단계)/현재단계\n",
    "\n",
    "\n",
    "stages_df['label'] = stages_df.apply(\n",
    "    lambda row: f\"{row['stage']}: {row['number']}명\\n이탈률: {row['drop_off_rate']:.2f}%\", axis=1\n",
    ")\n",
    "\n",
    "\n",
    "fig = px.funnel(\n",
    "    stages_df,\n",
    "    x='number',\n",
    "    y='stage',\n",
    "    title=\"Funnel Analysis\",\n",
    "    color_discrete_sequence=[\"#6BAED6\", \"#9ECAE1\", \"#C6DBEF\", \"#DEEBF7\"]\n",
    ")\n",
    "\n",
    "\n",
    "fig.update_traces(\n",
    "    textinfo=\"label+percent previous\",\n",
    "    textfont_size=14,\n",
    "    marker_line_color=\"black\",\n",
    "    marker_line_width=1.5\n",
    ")\n",
    "\n",
    "\n",
    "for i, label in enumerate(stages_df['label']):\n",
    "    fig.add_annotation(\n",
    "        x=stages_df['number'][i] * 0.5,  \n",
    "        y=i,\n",
    "        text=label,\n",
    "        showarrow=False,\n",
    "        font=dict(size=12, color=\"black\"),\n",
    "        align=\"center\",\n",
    "        bgcolor=\"rgba(255, 255, 255, 0.8)\", \n",
    "        bordercolor=\"black\",\n",
    "        borderwidth=1\n",
    "    )\n",
    "\n",
    "fig.update_layout(\n",
    "    title_font_size=20,\n",
    "    title_x=0.5,\n",
    "    title_y=0.95,\n",
    "    plot_bgcolor=\"#F9F9F9\",\n",
    "    paper_bgcolor=\"#FFFFFF\",\n",
    "    xaxis_title=\"Number of Users\",\n",
    "    yaxis_title=\"Stages\",\n",
    "    font=dict(size=14)\n",
    ")\n",
    "\n",
    "fig.show()"
   ]
  },
  {
   "cell_type": "markdown",
   "metadata": {},
   "source": [
    "### 퍼널분석 해석\n",
    "- 채용공고방문 -> 지원시작으로 단계에서 이탈률이 높아진다.\n",
    "- 이 원인들을 파악해야 될것같다.\n",
    "1. URL 분석을 통해서 공고방문과 지원시작단계 속에 또 다른 단계들이 있는지 파악\n",
    "    - 있으면 단계를 세분화해서 원인을 찾고 해결방안을 제시\n",
    "    - 없다면 여기서 원인을 찾아보자.\n",
    "\n",
    "### 강사님의 피드백\n",
    "- 채용공고방문과 지원시작안에 단계를 더 추가해서 분석해볼수도 있겠다.\n",
    "- 채용공고방문 -> 지원시작의 path를 분석해보자 -> 추천공고나 필터기능 (보통 채용사이트에서 이탈율을 줄인다.) -> 여기서 인사이트를 확인가능 ->  필터나 추천공고를 정확하지않다던지 , 수요와공급에 대한 거시적으로 볼수도있다.\n",
    "- 자연이탈 -> 더이상줄일수없는현상\n",
    "\n",
    "### 분석결과\n",
    "추천공고가 너무 밑에 있음\n"
   ]
  },
  {
   "cell_type": "code",
   "execution_count": 38,
   "metadata": {},
   "outputs": [
    {
     "data": {
      "text/plain": [
       "이벤트 발생 화면 경로\n",
       "jobs/id/id_title                                                                                                                      677509\n",
       "api/jobs/id/other_jobs?offset=0&limit=5                                                                                               624261\n",
       "jobs/id/apply/step1                                                                                                                    88636\n",
       "jobs/id/apply/step2                                                                                                                    76575\n",
       "api/jobs/id/apply/step1                                                                                                                69643\n",
       "api/jobs/id/apply/step2                                                                                                                69152\n",
       "jobs/id/apply/step3                                                                                                                    63966\n",
       "api/jobs/id/bookmark                                                                                                                   50146\n",
       "jobs/id/apply/step4                                                                                                                    49853\n",
       "api/jobs/id/apply/step4                                                                                                                39267\n",
       "api/jobs/id/apply/step3                                                                                                                37921\n",
       "jobs/id/applications                                                                                                                   26103\n",
       "jobs/id/id_title?utm_source=notification&utm_medium=email&utm_campaign=&utm_content=view_job                                           15749\n",
       "jobs/id/edit                                                                                                                            7136\n",
       "jobs/id/id_title?utm_source=notification&utm_medium=email&utm_campaign=job_matching&utm_content=view_job                                6072\n",
       "jobs/id/bookmarks                                                                                                                       6008\n",
       "api/jobs/id/follow_button                                                                                                               5804\n",
       "jobs/id/id_title?utm_campaign=google_jobs_apply&utm_source=google_jobs_apply&utm_medium=organic                                         4969\n",
       "api/jobs/id/other_jobs?offset=5&limit=5                                                                                                 4272\n",
       "jobs/id/recommend_talents                                                                                                               2393\n",
       "jobs/id/id_title?utm_source=notification&utm_medium=email&utm_campaign=application_open&utm_content=view_job_button                     1949\n",
       "jobs/id/apply/step1?utm_source=notification&utm_medium=email&utm_campaign=job_bookmark_finish&utm_content=view_application_button       1452\n",
       "jobs/id/null                                                                                                                            1246\n",
       "jobs/id/bookmarks?utm_source=notification&utm_medium=email&utm_campaign=job_bookmarked_users&utm_content=job_bookmarks                  1223\n",
       "api/jobs/id/other_jobs?offset=10&limit=5                                                                                                 885\n",
       "api/jobs/id/media/add                                                                                                                    726\n",
       "jobs/id/apply/step1?utm_source=notification&utm_medium=email&utm_campaign=application_reminder&utm_content=view_application_button       550\n",
       "api/jobs/id/media/id/delete                                                                                                              337\n",
       "jobs/id/id_title?utm_source=notification&utm_medium=email&utm_campaign=application_reminder&utm_content=view_job                         335\n",
       "api/jobs/id/other_jobs?offset=15&limit=5                                                                                                 316\n",
       "Name: count, dtype: int64"
      ]
     },
     "execution_count": 38,
     "metadata": {},
     "output_type": "execute_result"
    }
   ],
   "source": [
    "log_2022[log_2022['이벤트 발생 화면 경로'].str.contains('jobs/id', case=False, na=False)]['이벤트 발생 화면 경로'].value_counts().head(30)"
   ]
  },
  {
   "cell_type": "code",
   "execution_count": 2,
   "metadata": {},
   "outputs": [
    {
     "name": "stdout",
     "output_type": "stream",
     "text": [
      "     stage  number  drop_off  drop_off_rate\n",
      "0  채용페이지방문   11375       NaN       0.000000\n",
      "1   채용공고방문   10406     969.0       8.518681\n",
      "2     지원시작    6506    3900.0      37.478378\n",
      "3     지원완료    5335    1171.0      17.998770\n"
     ]
    }
   ],
   "source": [
    "import pandas as pd\n",
    "\n",
    "# 원본 데이터프레임\n",
    "퍼널_2022 = pd.DataFrame({\n",
    "    'stage': ['채용페이지방문', '채용공고방문', '지원시작', '지원완료'],\n",
    "    'number': [11375, 10406, 6506, 5335]\n",
    "})\n",
    "\n",
    "# drop_off 계산: 이전 단계 - 현재 단계\n",
    "퍼널_2022['drop_off'] = 퍼널_2022['number'].shift(1) - 퍼널_2022['number']\n",
    "\n",
    "# drop_off_rate 계산: (drop_off / 이전 단계) * 100\n",
    "퍼널_2022['drop_off_rate'] = (퍼널_2022['drop_off'] / 퍼널_2022['number'].shift(1) * 100).fillna(0)\n",
    "\n",
    "# 결과 출력\n",
    "print(퍼널_2022)"
   ]
  },
  {
   "cell_type": "code",
   "execution_count": 5,
   "metadata": {},
   "outputs": [],
   "source": [
    "퍼널_2022.to_excel('/Users/parkjunhyeok/Desktop/codit/프로젝트/중급프로젝트/태블로시각화데이터/퍼널_2022.xlsx', index=False)"
   ]
  },
  {
   "cell_type": "code",
   "execution_count": null,
   "metadata": {},
   "outputs": [],
   "source": []
  }
 ],
 "metadata": {
  "kernelspec": {
   "display_name": "base",
   "language": "python",
   "name": "python3"
  },
  "language_info": {
   "codemirror_mode": {
    "name": "ipython",
    "version": 3
   },
   "file_extension": ".py",
   "mimetype": "text/x-python",
   "name": "python",
   "nbconvert_exporter": "python",
   "pygments_lexer": "ipython3",
   "version": "3.12.4"
  }
 },
 "nbformat": 4,
 "nbformat_minor": 2
}
